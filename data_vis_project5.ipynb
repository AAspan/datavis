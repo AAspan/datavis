{
 "cells": [
  {
   "cell_type": "markdown",
   "metadata": {
    "id": "-WGV3RD9gibX"
   },
   "source": [
    "Data Visualization\n",
    "\n",
    "## Project 5\n",
    "\n",
    "Due date: 11:59 pm, April 25, 2022\n",
    "\n",
    "**Requirements**\n",
    "\n",
    "In this project, you will learn the basics of network visualization, text analysis and visualization, and social network analysis and visualization.\n",
    "\n",
    "For the Twitter data analysis (Part 2 and 3), you may need to run the program in Jupyter Notebook or JupyterLab from Anaconda. "
   ]
  },
  {
   "cell_type": "markdown",
   "metadata": {
    "id": "kK0pln9QgpDF"
   },
   "source": [
    "## Part 1 (30 points)\n",
    "\n",
    "Write Python code to create a bracket of the 2022 NCAA Basketball Championship. You can create one for either the men's or women's championship.\n",
    "\n",
    "You can find the men's championship bracket [here](https://www.ncaa.com/march-madness-live/bracket) and the women's championship bracket [here](https://www.ncaa.com/brackets/basketball-women/d1/2022). You can start from the first round, excluding the First Four matches on 3/15 and 3/16.\n",
    "\n",
    "- You need to create the data file yourself.\n",
    "- Your bracket must include the college names and scores.\n",
    "- You decide the layout of your bracket. Your bracket does not need to look like the ones on the NCAA website or other websites.\n",
    "- You must use Python and one of the three GraphViz packages: python-graphviz, pydot, or pygraphviz. \n",
    "- For your reference, I have attached the bracket I created for the 2021 NCAA Men's Basketball Championship and the spreadsheet I used. However, you are not required to follow this example. "
   ]
  },
  {
   "cell_type": "markdown",
   "metadata": {
    "id": "dlPmlR4YgibZ"
   },
   "source": [
    "## Part 2 (25 points)\n",
    "\n",
    "Retrieve Tweets from an active Twitter account (e.g., @CDCgov) and create a data visualization similar to [Google Books Ngram Viewer](https://books.google.com/ngrams). \n",
    "\n",
    "a. Retrieve the Twitter data yourself with Twint.\n",
    "\n",
    "b. Clean the tweets. \n",
    "\n",
    "c. Group the tweets by month. Create a word frequency distribution for each month using NLTK. \n",
    "\n",
    "d. Find the frequency of two keywords (e.g., \"vaccine\" and \"infection\") for each month.\n",
    "\n",
    "e. Create a line plot that shows the frequency of the two keywords over time, with one line per word. Again, see the Google Books Ngram Viewer for example. Use Seaborn to create the plot. The X-axis should be month. The Y-axis should be frequency.  "
   ]
  },
  {
   "cell_type": "code",
   "execution_count": null,
   "metadata": {
    "id": "4ofrcwtKgibb"
   },
   "outputs": [],
   "source": []
  },
  {
   "cell_type": "markdown",
   "metadata": {
    "id": "H1aZ8FCPgibb"
   },
   "source": [
    "## Part 3 (25 points)\n",
    "\n",
    "Use Twitter data to create a simplified social network graph of a Twitter user.\n",
    "\n",
    "a. Create the social network graph with NetworkX. \n",
    "\n",
    "b. You can choose your Twitter user. For example, you can create one for the College of Arts & Sciences (@GSUArtSci).\n",
    "\n",
    "c.\tThis social network should be at least three layers deep. For example, starting with user A, you should get the friends of A, the friends of friends of A, and friends of friends of friends of A, and so on. \n",
    "\n",
    "d.\tIf a user has many friends, display at most 5 of them.\n",
    "\n",
    "e.\tCreate an edge between any two nodes that are friends.  \n",
    "\n",
    "e.\tCreate a network visualization of the social network using either NetworkX's built-in visualization, Plotly, or python-graphviz. \n",
    "\n",
    "f.\tThe graph should show the screen name of each Twitter user."
   ]
  },
  {
   "cell_type": "code",
   "execution_count": null,
   "metadata": {
    "id": "qFzKvANkgibc"
   },
   "outputs": [],
   "source": []
  },
  {
   "cell_type": "markdown",
   "metadata": {
    "id": "nT0tKWb0gibc"
   },
   "source": [
    "## Part 4 (20 points)\n",
    "\n",
    "Retrieve captions from the following YouTube videos, conduct sentiment analysis, and draw a line plot showing the sentiment index over time using Plotly Express (or Plotly).\n",
    "\n",
    "a.\t(10 points) Create a sentiment timeline for this video: \n",
    "https://www.youtube.com/watch?v=NMLz3VKojHo\n",
    "\n",
    "b.\t(10 points) Create a sentiment timeline for a YouTube video of your choice. \n"
   ]
  },
  {
   "cell_type": "code",
   "execution_count": 1,
   "metadata": {
    "id": "NLDdR7NJgibc"
   },
   "outputs": [
    {
     "name": "stdout",
     "output_type": "stream",
     "text": [
      "Note: you may need to restart the kernel to use updated packages.Collecting textblob\n",
      "\n",
      "  Using cached textblob-0.17.1-py2.py3-none-any.whl (636 kB)\n",
      "Requirement already satisfied: nltk>=3.1 in c:\\users\\david\\anaconda3\\lib\\site-packages (from textblob) (3.6.5)\n",
      "Requirement already satisfied: click in c:\\users\\david\\anaconda3\\lib\\site-packages (from nltk>=3.1->textblob) (8.0.4)\n",
      "Requirement already satisfied: joblib in c:\\users\\david\\anaconda3\\lib\\site-packages (from nltk>=3.1->textblob) (1.1.0)\n",
      "Requirement already satisfied: regex>=2021.8.3 in c:\\users\\david\\anaconda3\\lib\\site-packages (from nltk>=3.1->textblob) (2021.8.3)\n",
      "Requirement already satisfied: tqdm in c:\\users\\david\\anaconda3\\lib\\site-packages (from nltk>=3.1->textblob) (4.62.3)\n",
      "Requirement already satisfied: colorama in c:\\users\\david\\anaconda3\\lib\\site-packages (from click->nltk>=3.1->textblob) (0.4.4)\n",
      "Installing collected packages: textblob\n",
      "Successfully installed textblob-0.17.1\n"
     ]
    }
   ],
   "source": [
    "pip install textblob"
   ]
  },
  {
   "cell_type": "code",
   "execution_count": 2,
   "metadata": {},
   "outputs": [
    {
     "name": "stdout",
     "output_type": "stream",
     "text": [
      "Collecting python-twitterNote: you may need to restart the kernel to use updated packages.\n",
      "\n",
      "  Downloading python_twitter-3.5-py2.py3-none-any.whl (67 kB)\n",
      "Requirement already satisfied: future in c:\\users\\david\\anaconda3\\lib\\site-packages (from python-twitter) (0.18.2)\n",
      "Requirement already satisfied: requests-oauthlib in c:\\users\\david\\anaconda3\\lib\\site-packages (from python-twitter) (1.3.1)\n",
      "Requirement already satisfied: requests in c:\\users\\david\\anaconda3\\lib\\site-packages (from python-twitter) (2.25.0)\n",
      "Requirement already satisfied: certifi>=2017.4.17 in c:\\users\\david\\anaconda3\\lib\\site-packages (from requests->python-twitter) (2021.10.8)\n",
      "Requirement already satisfied: urllib3<1.27,>=1.21.1 in c:\\users\\david\\anaconda3\\lib\\site-packages (from requests->python-twitter) (1.26.6)\n",
      "Requirement already satisfied: idna<3,>=2.5 in c:\\users\\david\\anaconda3\\lib\\site-packages (from requests->python-twitter) (2.10)\n",
      "Requirement already satisfied: chardet<4,>=3.0.2 in c:\\users\\david\\anaconda3\\lib\\site-packages (from requests->python-twitter) (3.0.4)\n",
      "Requirement already satisfied: oauthlib>=3.0.0 in c:\\users\\david\\anaconda3\\lib\\site-packages (from requests-oauthlib->python-twitter) (3.2.0)\n",
      "Installing collected packages: python-twitter\n",
      "Successfully installed python-twitter-3.5\n"
     ]
    }
   ],
   "source": [
    "pip install python-twitter"
   ]
  },
  {
   "cell_type": "code",
   "execution_count": null,
   "metadata": {},
   "outputs": [],
   "source": []
  }
 ],
 "metadata": {
  "colab": {
   "name": "data_vis_project5.ipynb",
   "provenance": []
  },
  "kernelspec": {
   "display_name": "Python 3 (ipykernel)",
   "language": "python",
   "name": "python3"
  },
  "language_info": {
   "codemirror_mode": {
    "name": "ipython",
    "version": 3
   },
   "file_extension": ".py",
   "mimetype": "text/x-python",
   "name": "python",
   "nbconvert_exporter": "python",
   "pygments_lexer": "ipython3",
   "version": "3.9.7"
  }
 },
 "nbformat": 4,
 "nbformat_minor": 4
}
