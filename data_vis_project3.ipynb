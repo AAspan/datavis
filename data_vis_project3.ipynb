{
 "cells": [
  {
   "cell_type": "markdown",
   "id": "sustainable-dayton",
   "metadata": {
    "id": "sustainable-dayton"
   },
   "source": [
    "Data Visualization\n",
    "\n",
    "## Project 3\n",
    "\n",
    "Due date: 11:59 pm, 3/9/2022\n",
    "\n",
    "**Requirements**\n",
    "\n",
    "- The best way to do this project is to open this file in Google Colab or Jupyter Notebook, enter your code in the blank cell under each question, and run it. \n",
    "\n",
    "- Each question is worth 10 points.\n",
    "\n",
    "- You must write code using Plotly Python API to create the charts. You can use Plotly Express. You must submit both the figures and source code. \n",
    "\n",
    "- **Do not use the online Plotly Chart Studio Editor.** \n",
    "\n",
    "- The data files used in this project are included in a separate Zip file. Place the data files in your current working directory. If you are not sure where your Jupyter working directory is, please read my Python Notes.\n",
    "\n",
    "- Submit two things. \n",
    "  - First, submit a text file that contains the link to your Ipynb file in Google Colab. Make sure your Ipynb file in Google Colab is shared so that anyone with the link can view. Do not put this link in public. If you don't use Google Colab, include the Ipynb file itself. \n",
    "\n",
    "  - Second, include a PDF printout of your Ipynb file. Because the interactive Plotly charts may not be printed properly, it's better to take screenshots, paste them to a Word file, and then save or print to PDF. Make sure this file includes both source code and output. This will make it easier for my TA and I to check your answers. Do not submit only the source code without output or the output without the source code.\n",
    "\n",
    "  - You can put the two files in a Zip file and submit the Zip file.\n",
    "\n",
    "- Do not submit by email."
   ]
  },
  {
   "cell_type": "markdown",
   "id": "lMUhyG0T7vLP",
   "metadata": {
    "id": "lMUhyG0T7vLP"
   },
   "source": [
    "### Part 1 Plotly\n",
    "\n",
    "- Load **HollywoodsMostProfitableStories.csv** and use Plotly to create the following charts. Every figure must include a title. Each axis must be labeled. \n",
    "- This dataset has a few missing data values. Your code should ignore the missing data values when calculating the averages. "
   ]
  },
  {
   "cell_type": "markdown",
   "id": "discrete-architecture",
   "metadata": {
    "id": "discrete-architecture"
   },
   "source": [
    "1. Create a bar chart showing the top 10 most profitable films. The X-axis is the film title. The Y-axis is profitability. The bars should be sorted from the most to the least profitable."
   ]
  },
  {
   "cell_type": "code",
   "execution_count": 2,
   "id": "frequent-latino",
   "metadata": {
    "id": "frequent-latino"
   },
   "outputs": [
    {
     "data": {
      "application/vnd.plotly.v1+json": {
       "config": {
        "plotlyServerURL": "https://plot.ly"
       },
       "data": [
        {
         "alignmentgroup": "True",
         "hovertemplate": "Film=%{x}<br>Profitability=%{y}<extra></extra>",
         "legendgroup": "27 Dresses",
         "marker": {
          "color": "#636efa",
          "pattern": {
           "shape": ""
          }
         },
         "name": "27 Dresses",
         "offsetgroup": "27 Dresses",
         "orientation": "v",
         "showlegend": true,
         "textposition": "auto",
         "type": "bar",
         "x": [
          "27 Dresses"
         ],
         "xaxis": "x",
         "y": [
          5.3436218
         ],
         "yaxis": "y"
        },
        {
         "alignmentgroup": "True",
         "hovertemplate": "Film=%{x}<br>Profitability=%{y}<extra></extra>",
         "legendgroup": "(500) Days of Summer",
         "marker": {
          "color": "#EF553B",
          "pattern": {
           "shape": ""
          }
         },
         "name": "(500) Days of Summer",
         "offsetgroup": "(500) Days of Summer",
         "orientation": "v",
         "showlegend": true,
         "textposition": "auto",
         "type": "bar",
         "x": [
          "(500) Days of Summer"
         ],
         "xaxis": "x",
         "y": [
          8.096
         ],
         "yaxis": "y"
        },
        {
         "alignmentgroup": "True",
         "hovertemplate": "Film=%{x}<br>Profitability=%{y}<extra></extra>",
         "legendgroup": "A Dangerous Method",
         "marker": {
          "color": "#00cc96",
          "pattern": {
           "shape": ""
          }
         },
         "name": "A Dangerous Method",
         "offsetgroup": "A Dangerous Method",
         "orientation": "v",
         "showlegend": true,
         "textposition": "auto",
         "type": "bar",
         "x": [
          "A Dangerous Method"
         ],
         "xaxis": "x",
         "y": [
          0.44864475
         ],
         "yaxis": "y"
        },
        {
         "alignmentgroup": "True",
         "hovertemplate": "Film=%{x}<br>Profitability=%{y}<extra></extra>",
         "legendgroup": "A Serious Man",
         "marker": {
          "color": "#ab63fa",
          "pattern": {
           "shape": ""
          }
         },
         "name": "A Serious Man",
         "offsetgroup": "A Serious Man",
         "orientation": "v",
         "showlegend": true,
         "textposition": "auto",
         "type": "bar",
         "x": [
          "A Serious Man"
         ],
         "xaxis": "x",
         "y": [
          4.382857143
         ],
         "yaxis": "y"
        },
        {
         "alignmentgroup": "True",
         "hovertemplate": "Film=%{x}<br>Profitability=%{y}<extra></extra>",
         "legendgroup": "Across the Universe",
         "marker": {
          "color": "#FFA15A",
          "pattern": {
           "shape": ""
          }
         },
         "name": "Across the Universe",
         "offsetgroup": "Across the Universe",
         "orientation": "v",
         "showlegend": true,
         "textposition": "auto",
         "type": "bar",
         "x": [
          "Across the Universe"
         ],
         "xaxis": "x",
         "y": [
          0.652603178
         ],
         "yaxis": "y"
        },
        {
         "alignmentgroup": "True",
         "hovertemplate": "Film=%{x}<br>Profitability=%{y}<extra></extra>",
         "legendgroup": "Beginners",
         "marker": {
          "color": "#19d3f3",
          "pattern": {
           "shape": ""
          }
         },
         "name": "Beginners",
         "offsetgroup": "Beginners",
         "orientation": "v",
         "showlegend": true,
         "textposition": "auto",
         "type": "bar",
         "x": [
          "Beginners"
         ],
         "xaxis": "x",
         "y": [
          4.471875
         ],
         "yaxis": "y"
        },
        {
         "alignmentgroup": "True",
         "hovertemplate": "Film=%{x}<br>Profitability=%{y}<extra></extra>",
         "legendgroup": "Dear John",
         "marker": {
          "color": "#FF6692",
          "pattern": {
           "shape": ""
          }
         },
         "name": "Dear John",
         "offsetgroup": "Dear John",
         "orientation": "v",
         "showlegend": true,
         "textposition": "auto",
         "type": "bar",
         "x": [
          "Dear John"
         ],
         "xaxis": "x",
         "y": [
          4.5988
         ],
         "yaxis": "y"
        },
        {
         "alignmentgroup": "True",
         "hovertemplate": "Film=%{x}<br>Profitability=%{y}<extra></extra>",
         "legendgroup": "Enchanted",
         "marker": {
          "color": "#B6E880",
          "pattern": {
           "shape": ""
          }
         },
         "name": "Enchanted",
         "offsetgroup": "Enchanted",
         "orientation": "v",
         "showlegend": true,
         "textposition": "auto",
         "type": "bar",
         "x": [
          "Enchanted"
         ],
         "xaxis": "x",
         "y": [
          4.005737082
         ],
         "yaxis": "y"
        },
        {
         "alignmentgroup": "True",
         "hovertemplate": "Film=%{x}<br>Profitability=%{y}<extra></extra>",
         "legendgroup": "Fireproof",
         "marker": {
          "color": "#FF97FF",
          "pattern": {
           "shape": ""
          }
         },
         "name": "Fireproof",
         "offsetgroup": "Fireproof",
         "orientation": "v",
         "showlegend": true,
         "textposition": "auto",
         "type": "bar",
         "x": [
          "Fireproof"
         ],
         "xaxis": "x",
         "y": [
          66.934
         ],
         "yaxis": "y"
        },
        {
         "alignmentgroup": "True",
         "hovertemplate": "Film=%{x}<br>Profitability=%{y}<extra></extra>",
         "legendgroup": "Four Christmases",
         "marker": {
          "color": "#FECB52",
          "pattern": {
           "shape": ""
          }
         },
         "name": "Four Christmases",
         "offsetgroup": "Four Christmases",
         "orientation": "v",
         "showlegend": true,
         "textposition": "auto",
         "type": "bar",
         "x": [
          "Four Christmases"
         ],
         "xaxis": "x",
         "y": [
          2.022925
         ],
         "yaxis": "y"
        },
        {
         "alignmentgroup": "True",
         "hovertemplate": "Film=%{x}<br>Profitability=%{y}<extra></extra>",
         "legendgroup": "Ghosts of Girlfriends Past",
         "marker": {
          "color": "#636efa",
          "pattern": {
           "shape": ""
          }
         },
         "name": "Ghosts of Girlfriends Past",
         "offsetgroup": "Ghosts of Girlfriends Past",
         "orientation": "v",
         "showlegend": true,
         "textposition": "auto",
         "type": "bar",
         "x": [
          "Ghosts of Girlfriends Past"
         ],
         "xaxis": "x",
         "y": [
          2.0444
         ],
         "yaxis": "y"
        },
        {
         "alignmentgroup": "True",
         "hovertemplate": "Film=%{x}<br>Profitability=%{y}<extra></extra>",
         "legendgroup": "Gnomeo and Juliet",
         "marker": {
          "color": "#EF553B",
          "pattern": {
           "shape": ""
          }
         },
         "name": "Gnomeo and Juliet",
         "offsetgroup": "Gnomeo and Juliet",
         "orientation": "v",
         "showlegend": true,
         "textposition": "auto",
         "type": "bar",
         "x": [
          "Gnomeo and Juliet"
         ],
         "xaxis": "x",
         "y": [
          5.387972222
         ],
         "yaxis": "y"
        },
        {
         "alignmentgroup": "True",
         "hovertemplate": "Film=%{x}<br>Profitability=%{y}<extra></extra>",
         "legendgroup": "Going the Distance",
         "marker": {
          "color": "#00cc96",
          "pattern": {
           "shape": ""
          }
         },
         "name": "Going the Distance",
         "offsetgroup": "Going the Distance",
         "orientation": "v",
         "showlegend": true,
         "textposition": "auto",
         "type": "bar",
         "x": [
          "Going the Distance"
         ],
         "xaxis": "x",
         "y": [
          1.3140625
         ],
         "yaxis": "y"
        },
        {
         "alignmentgroup": "True",
         "hovertemplate": "Film=%{x}<br>Profitability=%{y}<extra></extra>",
         "legendgroup": "Good Luck Chuck",
         "marker": {
          "color": "#ab63fa",
          "pattern": {
           "shape": ""
          }
         },
         "name": "Good Luck Chuck",
         "offsetgroup": "Good Luck Chuck",
         "orientation": "v",
         "showlegend": true,
         "textposition": "auto",
         "type": "bar",
         "x": [
          "Good Luck Chuck"
         ],
         "xaxis": "x",
         "y": [
          2.36768512
         ],
         "yaxis": "y"
        },
        {
         "alignmentgroup": "True",
         "hovertemplate": "Film=%{x}<br>Profitability=%{y}<extra></extra>",
         "legendgroup": "He's Just Not That Into You",
         "marker": {
          "color": "#FFA15A",
          "pattern": {
           "shape": ""
          }
         },
         "name": "He's Just Not That Into You",
         "offsetgroup": "He's Just Not That Into You",
         "orientation": "v",
         "showlegend": true,
         "textposition": "auto",
         "type": "bar",
         "x": [
          "He's Just Not That Into You"
         ],
         "xaxis": "x",
         "y": [
          7.1536
         ],
         "yaxis": "y"
        },
        {
         "alignmentgroup": "True",
         "hovertemplate": "Film=%{x}<br>Profitability=%{y}<extra></extra>",
         "legendgroup": "High School Musical 3: Senior Year",
         "marker": {
          "color": "#19d3f3",
          "pattern": {
           "shape": ""
          }
         },
         "name": "High School Musical 3: Senior Year",
         "offsetgroup": "High School Musical 3: Senior Year",
         "orientation": "v",
         "showlegend": true,
         "textposition": "auto",
         "type": "bar",
         "x": [
          "High School Musical 3: Senior Year"
         ],
         "xaxis": "x",
         "y": [
          22.91313646
         ],
         "yaxis": "y"
        },
        {
         "alignmentgroup": "True",
         "hovertemplate": "Film=%{x}<br>Profitability=%{y}<extra></extra>",
         "legendgroup": "I Love You Phillip Morris",
         "marker": {
          "color": "#FF6692",
          "pattern": {
           "shape": ""
          }
         },
         "name": "I Love You Phillip Morris",
         "offsetgroup": "I Love You Phillip Morris",
         "orientation": "v",
         "showlegend": true,
         "textposition": "auto",
         "type": "bar",
         "x": [
          "I Love You Phillip Morris"
         ],
         "xaxis": "x",
         "y": [
          1.34
         ],
         "yaxis": "y"
        },
        {
         "alignmentgroup": "True",
         "hovertemplate": "Film=%{x}<br>Profitability=%{y}<extra></extra>",
         "legendgroup": "It's Complicated",
         "marker": {
          "color": "#B6E880",
          "pattern": {
           "shape": ""
          }
         },
         "name": "It's Complicated",
         "offsetgroup": "It's Complicated",
         "orientation": "v",
         "showlegend": true,
         "textposition": "auto",
         "type": "bar",
         "x": [
          "It's Complicated"
         ],
         "xaxis": "x",
         "y": [
          2.642352941
         ],
         "yaxis": "y"
        },
        {
         "alignmentgroup": "True",
         "hovertemplate": "Film=%{x}<br>Profitability=%{y}<extra></extra>",
         "legendgroup": "Jane Eyre",
         "marker": {
          "color": "#FF97FF",
          "pattern": {
           "shape": ""
          }
         },
         "name": "Jane Eyre",
         "offsetgroup": "Jane Eyre",
         "orientation": "v",
         "showlegend": true,
         "textposition": "auto",
         "type": "bar",
         "x": [
          "Jane Eyre"
         ],
         "xaxis": "x",
         "y": [
          null
         ],
         "yaxis": "y"
        },
        {
         "alignmentgroup": "True",
         "hovertemplate": "Film=%{x}<br>Profitability=%{y}<extra></extra>",
         "legendgroup": "Just Wright",
         "marker": {
          "color": "#FECB52",
          "pattern": {
           "shape": ""
          }
         },
         "name": "Just Wright",
         "offsetgroup": "Just Wright",
         "orientation": "v",
         "showlegend": true,
         "textposition": "auto",
         "type": "bar",
         "x": [
          "Just Wright"
         ],
         "xaxis": "x",
         "y": [
          1.797416667
         ],
         "yaxis": "y"
        },
        {
         "alignmentgroup": "True",
         "hovertemplate": "Film=%{x}<br>Profitability=%{y}<extra></extra>",
         "legendgroup": "Killers",
         "marker": {
          "color": "#636efa",
          "pattern": {
           "shape": ""
          }
         },
         "name": "Killers",
         "offsetgroup": "Killers",
         "orientation": "v",
         "showlegend": true,
         "textposition": "auto",
         "type": "bar",
         "x": [
          "Killers"
         ],
         "xaxis": "x",
         "y": [
          1.245333333
         ],
         "yaxis": "y"
        },
        {
         "alignmentgroup": "True",
         "hovertemplate": "Film=%{x}<br>Profitability=%{y}<extra></extra>",
         "legendgroup": "Knocked Up",
         "marker": {
          "color": "#EF553B",
          "pattern": {
           "shape": ""
          }
         },
         "name": "Knocked Up",
         "offsetgroup": "Knocked Up",
         "orientation": "v",
         "showlegend": true,
         "textposition": "auto",
         "type": "bar",
         "x": [
          "Knocked Up"
         ],
         "xaxis": "x",
         "y": [
          6.636401848
         ],
         "yaxis": "y"
        },
        {
         "alignmentgroup": "True",
         "hovertemplate": "Film=%{x}<br>Profitability=%{y}<extra></extra>",
         "legendgroup": "Leap Year",
         "marker": {
          "color": "#00cc96",
          "pattern": {
           "shape": ""
          }
         },
         "name": "Leap Year",
         "offsetgroup": "Leap Year",
         "orientation": "v",
         "showlegend": true,
         "textposition": "auto",
         "type": "bar",
         "x": [
          "Leap Year"
         ],
         "xaxis": "x",
         "y": [
          1.715263158
         ],
         "yaxis": "y"
        },
        {
         "alignmentgroup": "True",
         "hovertemplate": "Film=%{x}<br>Profitability=%{y}<extra></extra>",
         "legendgroup": "Letters to Juliet",
         "marker": {
          "color": "#ab63fa",
          "pattern": {
           "shape": ""
          }
         },
         "name": "Letters to Juliet",
         "offsetgroup": "Letters to Juliet",
         "orientation": "v",
         "showlegend": true,
         "textposition": "auto",
         "type": "bar",
         "x": [
          "Letters to Juliet"
         ],
         "xaxis": "x",
         "y": [
          2.639333333
         ],
         "yaxis": "y"
        },
        {
         "alignmentgroup": "True",
         "hovertemplate": "Film=%{x}<br>Profitability=%{y}<extra></extra>",
         "legendgroup": "License to Wed",
         "marker": {
          "color": "#FFA15A",
          "pattern": {
           "shape": ""
          }
         },
         "name": "License to Wed",
         "offsetgroup": "License to Wed",
         "orientation": "v",
         "showlegend": true,
         "textposition": "auto",
         "type": "bar",
         "x": [
          "License to Wed"
         ],
         "xaxis": "x",
         "y": [
          1.9802064
         ],
         "yaxis": "y"
        },
        {
         "alignmentgroup": "True",
         "hovertemplate": "Film=%{x}<br>Profitability=%{y}<extra></extra>",
         "legendgroup": "Life as We Know It",
         "marker": {
          "color": "#19d3f3",
          "pattern": {
           "shape": ""
          }
         },
         "name": "Life as We Know It",
         "offsetgroup": "Life as We Know It",
         "orientation": "v",
         "showlegend": true,
         "textposition": "auto",
         "type": "bar",
         "x": [
          "Life as We Know It"
         ],
         "xaxis": "x",
         "y": [
          2.530526316
         ],
         "yaxis": "y"
        },
        {
         "alignmentgroup": "True",
         "hovertemplate": "Film=%{x}<br>Profitability=%{y}<extra></extra>",
         "legendgroup": "Love & Other Drugs",
         "marker": {
          "color": "#FF6692",
          "pattern": {
           "shape": ""
          }
         },
         "name": "Love & Other Drugs",
         "offsetgroup": "Love & Other Drugs",
         "orientation": "v",
         "showlegend": true,
         "textposition": "auto",
         "type": "bar",
         "x": [
          "Love & Other Drugs"
         ],
         "xaxis": "x",
         "y": [
          1.817666667
         ],
         "yaxis": "y"
        },
        {
         "alignmentgroup": "True",
         "hovertemplate": "Film=%{x}<br>Profitability=%{y}<extra></extra>",
         "legendgroup": "Love Happens",
         "marker": {
          "color": "#B6E880",
          "pattern": {
           "shape": ""
          }
         },
         "name": "Love Happens",
         "offsetgroup": "Love Happens",
         "orientation": "v",
         "showlegend": true,
         "textposition": "auto",
         "type": "bar",
         "x": [
          "Love Happens"
         ],
         "xaxis": "x",
         "y": [
          2.004444444
         ],
         "yaxis": "y"
        },
        {
         "alignmentgroup": "True",
         "hovertemplate": "Film=%{x}<br>Profitability=%{y}<extra></extra>",
         "legendgroup": "Made of Honor",
         "marker": {
          "color": "#FF97FF",
          "pattern": {
           "shape": ""
          }
         },
         "name": "Made of Honor",
         "offsetgroup": "Made of Honor",
         "orientation": "v",
         "showlegend": true,
         "textposition": "auto",
         "type": "bar",
         "x": [
          "Made of Honor"
         ],
         "xaxis": "x",
         "y": [
          2.64906835
         ],
         "yaxis": "y"
        },
        {
         "alignmentgroup": "True",
         "hovertemplate": "Film=%{x}<br>Profitability=%{y}<extra></extra>",
         "legendgroup": "Mamma Mia!",
         "marker": {
          "color": "#FECB52",
          "pattern": {
           "shape": ""
          }
         },
         "name": "Mamma Mia!",
         "offsetgroup": "Mamma Mia!",
         "orientation": "v",
         "showlegend": true,
         "textposition": "auto",
         "type": "bar",
         "x": [
          "Mamma Mia!"
         ],
         "xaxis": "x",
         "y": [
          9.234453864
         ],
         "yaxis": "y"
        },
        {
         "alignmentgroup": "True",
         "hovertemplate": "Film=%{x}<br>Profitability=%{y}<extra></extra>",
         "legendgroup": "Marley and Me",
         "marker": {
          "color": "#636efa",
          "pattern": {
           "shape": ""
          }
         },
         "name": "Marley and Me",
         "offsetgroup": "Marley and Me",
         "orientation": "v",
         "showlegend": true,
         "textposition": "auto",
         "type": "bar",
         "x": [
          "Marley and Me"
         ],
         "xaxis": "x",
         "y": [
          3.746781818
         ],
         "yaxis": "y"
        },
        {
         "alignmentgroup": "True",
         "hovertemplate": "Film=%{x}<br>Profitability=%{y}<extra></extra>",
         "legendgroup": "Midnight in Paris",
         "marker": {
          "color": "#EF553B",
          "pattern": {
           "shape": ""
          }
         },
         "name": "Midnight in Paris",
         "offsetgroup": "Midnight in Paris",
         "orientation": "v",
         "showlegend": true,
         "textposition": "auto",
         "type": "bar",
         "x": [
          "Midnight in Paris"
         ],
         "xaxis": "x",
         "y": [
          8.744705882
         ],
         "yaxis": "y"
        },
        {
         "alignmentgroup": "True",
         "hovertemplate": "Film=%{x}<br>Profitability=%{y}<extra></extra>",
         "legendgroup": "Miss Pettigrew Lives for a Day",
         "marker": {
          "color": "#00cc96",
          "pattern": {
           "shape": ""
          }
         },
         "name": "Miss Pettigrew Lives for a Day",
         "offsetgroup": "Miss Pettigrew Lives for a Day",
         "orientation": "v",
         "showlegend": true,
         "textposition": "auto",
         "type": "bar",
         "x": [
          "Miss Pettigrew Lives for a Day"
         ],
         "xaxis": "x",
         "y": [
          0.2528949
         ],
         "yaxis": "y"
        },
        {
         "alignmentgroup": "True",
         "hovertemplate": "Film=%{x}<br>Profitability=%{y}<extra></extra>",
         "legendgroup": "Monte Carlo",
         "marker": {
          "color": "#ab63fa",
          "pattern": {
           "shape": ""
          }
         },
         "name": "Monte Carlo",
         "offsetgroup": "Monte Carlo",
         "orientation": "v",
         "showlegend": true,
         "textposition": "auto",
         "type": "bar",
         "x": [
          "Monte Carlo"
         ],
         "xaxis": "x",
         "y": [
          1.9832
         ],
         "yaxis": "y"
        },
        {
         "alignmentgroup": "True",
         "hovertemplate": "Film=%{x}<br>Profitability=%{y}<extra></extra>",
         "legendgroup": "Music and Lyrics",
         "marker": {
          "color": "#FFA15A",
          "pattern": {
           "shape": ""
          }
         },
         "name": "Music and Lyrics",
         "offsetgroup": "Music and Lyrics",
         "orientation": "v",
         "showlegend": true,
         "textposition": "auto",
         "type": "bar",
         "x": [
          "Music and Lyrics"
         ],
         "xaxis": "x",
         "y": [
          3.64741055
         ],
         "yaxis": "y"
        },
        {
         "alignmentgroup": "True",
         "hovertemplate": "Film=%{x}<br>Profitability=%{y}<extra></extra>",
         "legendgroup": "My Week with Marilyn",
         "marker": {
          "color": "#19d3f3",
          "pattern": {
           "shape": ""
          }
         },
         "name": "My Week with Marilyn",
         "offsetgroup": "My Week with Marilyn",
         "orientation": "v",
         "showlegend": true,
         "textposition": "auto",
         "type": "bar",
         "x": [
          "My Week with Marilyn"
         ],
         "xaxis": "x",
         "y": [
          0.8258
         ],
         "yaxis": "y"
        },
        {
         "alignmentgroup": "True",
         "hovertemplate": "Film=%{x}<br>Profitability=%{y}<extra></extra>",
         "legendgroup": "New Year's Eve",
         "marker": {
          "color": "#FF6692",
          "pattern": {
           "shape": ""
          }
         },
         "name": "New Year's Eve",
         "offsetgroup": "New Year's Eve",
         "orientation": "v",
         "showlegend": true,
         "textposition": "auto",
         "type": "bar",
         "x": [
          "New Year's Eve"
         ],
         "xaxis": "x",
         "y": [
          2.536428571
         ],
         "yaxis": "y"
        },
        {
         "alignmentgroup": "True",
         "hovertemplate": "Film=%{x}<br>Profitability=%{y}<extra></extra>",
         "legendgroup": "Nick and Norah's Infinite Playlist",
         "marker": {
          "color": "#B6E880",
          "pattern": {
           "shape": ""
          }
         },
         "name": "Nick and Norah's Infinite Playlist",
         "offsetgroup": "Nick and Norah's Infinite Playlist",
         "orientation": "v",
         "showlegend": true,
         "textposition": "auto",
         "type": "bar",
         "x": [
          "Nick and Norah's Infinite Playlist"
         ],
         "xaxis": "x",
         "y": [
          3.3527293
         ],
         "yaxis": "y"
        },
        {
         "alignmentgroup": "True",
         "hovertemplate": "Film=%{x}<br>Profitability=%{y}<extra></extra>",
         "legendgroup": "No Reservations",
         "marker": {
          "color": "#FF97FF",
          "pattern": {
           "shape": ""
          }
         },
         "name": "No Reservations",
         "offsetgroup": "No Reservations",
         "orientation": "v",
         "showlegend": true,
         "textposition": "auto",
         "type": "bar",
         "x": [
          "No Reservations"
         ],
         "xaxis": "x",
         "y": [
          3.307180357
         ],
         "yaxis": "y"
        },
        {
         "alignmentgroup": "True",
         "hovertemplate": "Film=%{x}<br>Profitability=%{y}<extra></extra>",
         "legendgroup": "Not Easily Broken",
         "marker": {
          "color": "#FECB52",
          "pattern": {
           "shape": ""
          }
         },
         "name": "Not Easily Broken",
         "offsetgroup": "Not Easily Broken",
         "orientation": "v",
         "showlegend": true,
         "textposition": "auto",
         "type": "bar",
         "x": [
          "Not Easily Broken"
         ],
         "xaxis": "x",
         "y": [
          2.14
         ],
         "yaxis": "y"
        },
        {
         "alignmentgroup": "True",
         "hovertemplate": "Film=%{x}<br>Profitability=%{y}<extra></extra>",
         "legendgroup": "One Day",
         "marker": {
          "color": "#636efa",
          "pattern": {
           "shape": ""
          }
         },
         "name": "One Day",
         "offsetgroup": "One Day",
         "orientation": "v",
         "showlegend": true,
         "textposition": "auto",
         "type": "bar",
         "x": [
          "One Day"
         ],
         "xaxis": "x",
         "y": [
          3.682733333
         ],
         "yaxis": "y"
        },
        {
         "alignmentgroup": "True",
         "hovertemplate": "Film=%{x}<br>Profitability=%{y}<extra></extra>",
         "legendgroup": "Our Family Wedding",
         "marker": {
          "color": "#EF553B",
          "pattern": {
           "shape": ""
          }
         },
         "name": "Our Family Wedding",
         "offsetgroup": "Our Family Wedding",
         "orientation": "v",
         "showlegend": true,
         "textposition": "auto",
         "type": "bar",
         "x": [
          "Our Family Wedding"
         ],
         "xaxis": "x",
         "y": [
          null
         ],
         "yaxis": "y"
        },
        {
         "alignmentgroup": "True",
         "hovertemplate": "Film=%{x}<br>Profitability=%{y}<extra></extra>",
         "legendgroup": "Over Her Dead Body",
         "marker": {
          "color": "#00cc96",
          "pattern": {
           "shape": ""
          }
         },
         "name": "Over Her Dead Body",
         "offsetgroup": "Over Her Dead Body",
         "orientation": "v",
         "showlegend": true,
         "textposition": "auto",
         "type": "bar",
         "x": [
          "Over Her Dead Body"
         ],
         "xaxis": "x",
         "y": [
          2.071
         ],
         "yaxis": "y"
        },
        {
         "alignmentgroup": "True",
         "hovertemplate": "Film=%{x}<br>Profitability=%{y}<extra></extra>",
         "legendgroup": "P.S. I Love You",
         "marker": {
          "color": "#ab63fa",
          "pattern": {
           "shape": ""
          }
         },
         "name": "P.S. I Love You",
         "offsetgroup": "P.S. I Love You",
         "orientation": "v",
         "showlegend": true,
         "textposition": "auto",
         "type": "bar",
         "x": [
          "P.S. I Love You"
         ],
         "xaxis": "x",
         "y": [
          5.103116833
         ],
         "yaxis": "y"
        },
        {
         "alignmentgroup": "True",
         "hovertemplate": "Film=%{x}<br>Profitability=%{y}<extra></extra>",
         "legendgroup": "Penelope",
         "marker": {
          "color": "#FFA15A",
          "pattern": {
           "shape": ""
          }
         },
         "name": "Penelope",
         "offsetgroup": "Penelope",
         "orientation": "v",
         "showlegend": true,
         "textposition": "auto",
         "type": "bar",
         "x": [
          "Penelope"
         ],
         "xaxis": "x",
         "y": [
          1.382799733
         ],
         "yaxis": "y"
        },
        {
         "alignmentgroup": "True",
         "hovertemplate": "Film=%{x}<br>Profitability=%{y}<extra></extra>",
         "legendgroup": "Rachel Getting Married",
         "marker": {
          "color": "#19d3f3",
          "pattern": {
           "shape": ""
          }
         },
         "name": "Rachel Getting Married",
         "offsetgroup": "Rachel Getting Married",
         "orientation": "v",
         "showlegend": true,
         "textposition": "auto",
         "type": "bar",
         "x": [
          "Rachel Getting Married"
         ],
         "xaxis": "x",
         "y": [
          1.384166667
         ],
         "yaxis": "y"
        },
        {
         "alignmentgroup": "True",
         "hovertemplate": "Film=%{x}<br>Profitability=%{y}<extra></extra>",
         "legendgroup": "Remember Me",
         "marker": {
          "color": "#FF6692",
          "pattern": {
           "shape": ""
          }
         },
         "name": "Remember Me",
         "offsetgroup": "Remember Me",
         "orientation": "v",
         "showlegend": true,
         "textposition": "auto",
         "type": "bar",
         "x": [
          "Remember Me"
         ],
         "xaxis": "x",
         "y": [
          3.49125
         ],
         "yaxis": "y"
        },
        {
         "alignmentgroup": "True",
         "hovertemplate": "Film=%{x}<br>Profitability=%{y}<extra></extra>",
         "legendgroup": "Sex and the City",
         "marker": {
          "color": "#B6E880",
          "pattern": {
           "shape": ""
          }
         },
         "name": "Sex and the City",
         "offsetgroup": "Sex and the City",
         "orientation": "v",
         "showlegend": true,
         "textposition": "auto",
         "type": "bar",
         "x": [
          "Sex and the City"
         ],
         "xaxis": "x",
         "y": [
          7.221795791
         ],
         "yaxis": "y"
        },
        {
         "alignmentgroup": "True",
         "hovertemplate": "Film=%{x}<br>Profitability=%{y}<extra></extra>",
         "legendgroup": "Sex and the City 2",
         "marker": {
          "color": "#FF97FF",
          "pattern": {
           "shape": ""
          }
         },
         "name": "Sex and the City 2",
         "offsetgroup": "Sex and the City 2",
         "orientation": "v",
         "showlegend": true,
         "textposition": "auto",
         "type": "bar",
         "x": [
          "Sex and the City 2"
         ],
         "xaxis": "x",
         "y": [
          2.8835
         ],
         "yaxis": "y"
        },
        {
         "alignmentgroup": "True",
         "hovertemplate": "Film=%{x}<br>Profitability=%{y}<extra></extra>",
         "legendgroup": "She's Out of My League",
         "marker": {
          "color": "#FECB52",
          "pattern": {
           "shape": ""
          }
         },
         "name": "She's Out of My League",
         "offsetgroup": "She's Out of My League",
         "orientation": "v",
         "showlegend": true,
         "textposition": "auto",
         "type": "bar",
         "x": [
          "She's Out of My League"
         ],
         "xaxis": "x",
         "y": [
          2.4405
         ],
         "yaxis": "y"
        },
        {
         "alignmentgroup": "True",
         "hovertemplate": "Film=%{x}<br>Profitability=%{y}<extra></extra>",
         "legendgroup": "Something Borrowed",
         "marker": {
          "color": "#636efa",
          "pattern": {
           "shape": ""
          }
         },
         "name": "Something Borrowed",
         "offsetgroup": "Something Borrowed",
         "orientation": "v",
         "showlegend": true,
         "textposition": "auto",
         "type": "bar",
         "x": [
          "Something Borrowed"
         ],
         "xaxis": "x",
         "y": [
          1.719514286
         ],
         "yaxis": "y"
        },
        {
         "alignmentgroup": "True",
         "hovertemplate": "Film=%{x}<br>Profitability=%{y}<extra></extra>",
         "legendgroup": "Tangled",
         "marker": {
          "color": "#EF553B",
          "pattern": {
           "shape": ""
          }
         },
         "name": "Tangled",
         "offsetgroup": "Tangled",
         "orientation": "v",
         "showlegend": true,
         "textposition": "auto",
         "type": "bar",
         "x": [
          "Tangled"
         ],
         "xaxis": "x",
         "y": [
          1.365692308
         ],
         "yaxis": "y"
        },
        {
         "alignmentgroup": "True",
         "hovertemplate": "Film=%{x}<br>Profitability=%{y}<extra></extra>",
         "legendgroup": "The Back-up Plan",
         "marker": {
          "color": "#00cc96",
          "pattern": {
           "shape": ""
          }
         },
         "name": "The Back-up Plan",
         "offsetgroup": "The Back-up Plan",
         "orientation": "v",
         "showlegend": true,
         "textposition": "auto",
         "type": "bar",
         "x": [
          "The Back-up Plan"
         ],
         "xaxis": "x",
         "y": [
          2.202571429
         ],
         "yaxis": "y"
        },
        {
         "alignmentgroup": "True",
         "hovertemplate": "Film=%{x}<br>Profitability=%{y}<extra></extra>",
         "legendgroup": "The Curious Case of Benjamin Button",
         "marker": {
          "color": "#ab63fa",
          "pattern": {
           "shape": ""
          }
         },
         "name": "The Curious Case of Benjamin Button",
         "offsetgroup": "The Curious Case of Benjamin Button",
         "orientation": "v",
         "showlegend": true,
         "textposition": "auto",
         "type": "bar",
         "x": [
          "The Curious Case of Benjamin Button"
         ],
         "xaxis": "x",
         "y": [
          1.78394375
         ],
         "yaxis": "y"
        },
        {
         "alignmentgroup": "True",
         "hovertemplate": "Film=%{x}<br>Profitability=%{y}<extra></extra>",
         "legendgroup": "The Duchess",
         "marker": {
          "color": "#FFA15A",
          "pattern": {
           "shape": ""
          }
         },
         "name": "The Duchess",
         "offsetgroup": "The Duchess",
         "orientation": "v",
         "showlegend": true,
         "textposition": "auto",
         "type": "bar",
         "x": [
          "The Duchess"
         ],
         "xaxis": "x",
         "y": [
          3.207850222
         ],
         "yaxis": "y"
        },
        {
         "alignmentgroup": "True",
         "hovertemplate": "Film=%{x}<br>Profitability=%{y}<extra></extra>",
         "legendgroup": "The Heartbreak Kid",
         "marker": {
          "color": "#19d3f3",
          "pattern": {
           "shape": ""
          }
         },
         "name": "The Heartbreak Kid",
         "offsetgroup": "The Heartbreak Kid",
         "orientation": "v",
         "showlegend": true,
         "textposition": "auto",
         "type": "bar",
         "x": [
          "The Heartbreak Kid"
         ],
         "xaxis": "x",
         "y": [
          2.129444167
         ],
         "yaxis": "y"
        },
        {
         "alignmentgroup": "True",
         "hovertemplate": "Film=%{x}<br>Profitability=%{y}<extra></extra>",
         "legendgroup": "The Invention of Lying",
         "marker": {
          "color": "#FF6692",
          "pattern": {
           "shape": ""
          }
         },
         "name": "The Invention of Lying",
         "offsetgroup": "The Invention of Lying",
         "orientation": "v",
         "showlegend": true,
         "textposition": "auto",
         "type": "bar",
         "x": [
          "The Invention of Lying"
         ],
         "xaxis": "x",
         "y": [
          1.751351351
         ],
         "yaxis": "y"
        },
        {
         "alignmentgroup": "True",
         "hovertemplate": "Film=%{x}<br>Profitability=%{y}<extra></extra>",
         "legendgroup": "The Proposal",
         "marker": {
          "color": "#B6E880",
          "pattern": {
           "shape": ""
          }
         },
         "name": "The Proposal",
         "offsetgroup": "The Proposal",
         "orientation": "v",
         "showlegend": true,
         "textposition": "auto",
         "type": "bar",
         "x": [
          "The Proposal"
         ],
         "xaxis": "x",
         "y": [
          7.8675
         ],
         "yaxis": "y"
        },
        {
         "alignmentgroup": "True",
         "hovertemplate": "Film=%{x}<br>Profitability=%{y}<extra></extra>",
         "legendgroup": "The Time Traveler's Wife",
         "marker": {
          "color": "#FF97FF",
          "pattern": {
           "shape": ""
          }
         },
         "name": "The Time Traveler's Wife",
         "offsetgroup": "The Time Traveler's Wife",
         "orientation": "v",
         "showlegend": true,
         "textposition": "auto",
         "type": "bar",
         "x": [
          "The Time Traveler's Wife"
         ],
         "xaxis": "x",
         "y": [
          2.598205128
         ],
         "yaxis": "y"
        },
        {
         "alignmentgroup": "True",
         "hovertemplate": "Film=%{x}<br>Profitability=%{y}<extra></extra>",
         "legendgroup": "The Twilight Saga: New Moon",
         "marker": {
          "color": "#FECB52",
          "pattern": {
           "shape": ""
          }
         },
         "name": "The Twilight Saga: New Moon",
         "offsetgroup": "The Twilight Saga: New Moon",
         "orientation": "v",
         "showlegend": true,
         "textposition": "auto",
         "type": "bar",
         "x": [
          "The Twilight Saga: New Moon"
         ],
         "xaxis": "x",
         "y": [
          14.1964
         ],
         "yaxis": "y"
        },
        {
         "alignmentgroup": "True",
         "hovertemplate": "Film=%{x}<br>Profitability=%{y}<extra></extra>",
         "legendgroup": "The Ugly Truth",
         "marker": {
          "color": "#636efa",
          "pattern": {
           "shape": ""
          }
         },
         "name": "The Ugly Truth",
         "offsetgroup": "The Ugly Truth",
         "orientation": "v",
         "showlegend": true,
         "textposition": "auto",
         "type": "bar",
         "x": [
          "The Ugly Truth"
         ],
         "xaxis": "x",
         "y": [
          5.402631579
         ],
         "yaxis": "y"
        },
        {
         "alignmentgroup": "True",
         "hovertemplate": "Film=%{x}<br>Profitability=%{y}<extra></extra>",
         "legendgroup": "Twilight",
         "marker": {
          "color": "#EF553B",
          "pattern": {
           "shape": ""
          }
         },
         "name": "Twilight",
         "offsetgroup": "Twilight",
         "orientation": "v",
         "showlegend": true,
         "textposition": "auto",
         "type": "bar",
         "x": [
          "Twilight"
         ],
         "xaxis": "x",
         "y": [
          10.18002703
         ],
         "yaxis": "y"
        },
        {
         "alignmentgroup": "True",
         "hovertemplate": "Film=%{x}<br>Profitability=%{y}<extra></extra>",
         "legendgroup": "Twilight: Breaking Dawn",
         "marker": {
          "color": "#00cc96",
          "pattern": {
           "shape": ""
          }
         },
         "name": "Twilight: Breaking Dawn",
         "offsetgroup": "Twilight: Breaking Dawn",
         "orientation": "v",
         "showlegend": true,
         "textposition": "auto",
         "type": "bar",
         "x": [
          "Twilight: Breaking Dawn"
         ],
         "xaxis": "x",
         "y": [
          6.383363636
         ],
         "yaxis": "y"
        },
        {
         "alignmentgroup": "True",
         "hovertemplate": "Film=%{x}<br>Profitability=%{y}<extra></extra>",
         "legendgroup": "Tyler Perry's Why Did I get Married",
         "marker": {
          "color": "#ab63fa",
          "pattern": {
           "shape": ""
          }
         },
         "name": "Tyler Perry's Why Did I get Married",
         "offsetgroup": "Tyler Perry's Why Did I get Married",
         "orientation": "v",
         "showlegend": true,
         "textposition": "auto",
         "type": "bar",
         "x": [
          "Tyler Perry's Why Did I get Married"
         ],
         "xaxis": "x",
         "y": [
          3.7241924
         ],
         "yaxis": "y"
        },
        {
         "alignmentgroup": "True",
         "hovertemplate": "Film=%{x}<br>Profitability=%{y}<extra></extra>",
         "legendgroup": "Valentine's Day",
         "marker": {
          "color": "#FFA15A",
          "pattern": {
           "shape": ""
          }
         },
         "name": "Valentine's Day",
         "offsetgroup": "Valentine's Day",
         "orientation": "v",
         "showlegend": true,
         "textposition": "auto",
         "type": "bar",
         "x": [
          "Valentine's Day"
         ],
         "xaxis": "x",
         "y": [
          4.184038462
         ],
         "yaxis": "y"
        },
        {
         "alignmentgroup": "True",
         "hovertemplate": "Film=%{x}<br>Profitability=%{y}<extra></extra>",
         "legendgroup": "Waiting For Forever",
         "marker": {
          "color": "#19d3f3",
          "pattern": {
           "shape": ""
          }
         },
         "name": "Waiting For Forever",
         "offsetgroup": "Waiting For Forever",
         "orientation": "v",
         "showlegend": true,
         "textposition": "auto",
         "type": "bar",
         "x": [
          "Waiting For Forever"
         ],
         "xaxis": "x",
         "y": [
          0.005
         ],
         "yaxis": "y"
        },
        {
         "alignmentgroup": "True",
         "hovertemplate": "Film=%{x}<br>Profitability=%{y}<extra></extra>",
         "legendgroup": "Waitress",
         "marker": {
          "color": "#FF6692",
          "pattern": {
           "shape": ""
          }
         },
         "name": "Waitress",
         "offsetgroup": "Waitress",
         "orientation": "v",
         "showlegend": true,
         "textposition": "auto",
         "type": "bar",
         "x": [
          "Waitress"
         ],
         "xaxis": "x",
         "y": [
          11.0897415
         ],
         "yaxis": "y"
        },
        {
         "alignmentgroup": "True",
         "hovertemplate": "Film=%{x}<br>Profitability=%{y}<extra></extra>",
         "legendgroup": "WALL-E",
         "marker": {
          "color": "#B6E880",
          "pattern": {
           "shape": ""
          }
         },
         "name": "WALL-E",
         "offsetgroup": "WALL-E",
         "orientation": "v",
         "showlegend": true,
         "textposition": "auto",
         "type": "bar",
         "x": [
          "WALL-E"
         ],
         "xaxis": "x",
         "y": [
          2.896019067
         ],
         "yaxis": "y"
        },
        {
         "alignmentgroup": "True",
         "hovertemplate": "Film=%{x}<br>Profitability=%{y}<extra></extra>",
         "legendgroup": "Water For Elephants",
         "marker": {
          "color": "#FF97FF",
          "pattern": {
           "shape": ""
          }
         },
         "name": "Water For Elephants",
         "offsetgroup": "Water For Elephants",
         "orientation": "v",
         "showlegend": true,
         "textposition": "auto",
         "type": "bar",
         "x": [
          "Water For Elephants"
         ],
         "xaxis": "x",
         "y": [
          3.081421053
         ],
         "yaxis": "y"
        },
        {
         "alignmentgroup": "True",
         "hovertemplate": "Film=%{x}<br>Profitability=%{y}<extra></extra>",
         "legendgroup": "What Happens in Vegas",
         "marker": {
          "color": "#FECB52",
          "pattern": {
           "shape": ""
          }
         },
         "name": "What Happens in Vegas",
         "offsetgroup": "What Happens in Vegas",
         "orientation": "v",
         "showlegend": true,
         "textposition": "auto",
         "type": "bar",
         "x": [
          "What Happens in Vegas"
         ],
         "xaxis": "x",
         "y": [
          6.267647029
         ],
         "yaxis": "y"
        },
        {
         "alignmentgroup": "True",
         "hovertemplate": "Film=%{x}<br>Profitability=%{y}<extra></extra>",
         "legendgroup": "When in Rome",
         "marker": {
          "color": "#636efa",
          "pattern": {
           "shape": ""
          }
         },
         "name": "When in Rome",
         "offsetgroup": "When in Rome",
         "orientation": "v",
         "showlegend": true,
         "textposition": "auto",
         "type": "bar",
         "x": [
          "When in Rome"
         ],
         "xaxis": "x",
         "y": [
          null
         ],
         "yaxis": "y"
        },
        {
         "alignmentgroup": "True",
         "hovertemplate": "Film=%{x}<br>Profitability=%{y}<extra></extra>",
         "legendgroup": "You Will Meet a Tall Dark Stranger",
         "marker": {
          "color": "#EF553B",
          "pattern": {
           "shape": ""
          }
         },
         "name": "You Will Meet a Tall Dark Stranger",
         "offsetgroup": "You Will Meet a Tall Dark Stranger",
         "orientation": "v",
         "showlegend": true,
         "textposition": "auto",
         "type": "bar",
         "x": [
          "You Will Meet a Tall Dark Stranger"
         ],
         "xaxis": "x",
         "y": [
          1.211818182
         ],
         "yaxis": "y"
        },
        {
         "alignmentgroup": "True",
         "hovertemplate": "Film=%{x}<br>Profitability=%{y}<extra></extra>",
         "legendgroup": "Youth in Revolt",
         "marker": {
          "color": "#00cc96",
          "pattern": {
           "shape": ""
          }
         },
         "name": "Youth in Revolt",
         "offsetgroup": "Youth in Revolt",
         "orientation": "v",
         "showlegend": true,
         "textposition": "auto",
         "type": "bar",
         "x": [
          "Youth in Revolt"
         ],
         "xaxis": "x",
         "y": [
          1.09
         ],
         "yaxis": "y"
        },
        {
         "alignmentgroup": "True",
         "hovertemplate": "Film=%{x}<br>Profitability=%{y}<extra></extra>",
         "legendgroup": "Zack and Miri Make a Porno",
         "marker": {
          "color": "#ab63fa",
          "pattern": {
           "shape": ""
          }
         },
         "name": "Zack and Miri Make a Porno",
         "offsetgroup": "Zack and Miri Make a Porno",
         "orientation": "v",
         "showlegend": true,
         "textposition": "auto",
         "type": "bar",
         "x": [
          "Zack and Miri Make a Porno"
         ],
         "xaxis": "x",
         "y": [
          1.747541667
         ],
         "yaxis": "y"
        }
       ],
       "layout": {
        "autosize": true,
        "barmode": "stack",
        "legend": {
         "title": {
          "text": "Film"
         },
         "tracegroupgap": 0
        },
        "template": {
         "data": {
          "bar": [
           {
            "error_x": {
             "color": "#2a3f5f"
            },
            "error_y": {
             "color": "#2a3f5f"
            },
            "marker": {
             "line": {
              "color": "#E5ECF6",
              "width": 0.5
             },
             "pattern": {
              "fillmode": "overlay",
              "size": 10,
              "solidity": 0.2
             }
            },
            "type": "bar"
           }
          ],
          "barpolar": [
           {
            "marker": {
             "line": {
              "color": "#E5ECF6",
              "width": 0.5
             },
             "pattern": {
              "fillmode": "overlay",
              "size": 10,
              "solidity": 0.2
             }
            },
            "type": "barpolar"
           }
          ],
          "carpet": [
           {
            "aaxis": {
             "endlinecolor": "#2a3f5f",
             "gridcolor": "white",
             "linecolor": "white",
             "minorgridcolor": "white",
             "startlinecolor": "#2a3f5f"
            },
            "baxis": {
             "endlinecolor": "#2a3f5f",
             "gridcolor": "white",
             "linecolor": "white",
             "minorgridcolor": "white",
             "startlinecolor": "#2a3f5f"
            },
            "type": "carpet"
           }
          ],
          "choropleth": [
           {
            "colorbar": {
             "outlinewidth": 0,
             "ticks": ""
            },
            "type": "choropleth"
           }
          ],
          "contour": [
           {
            "colorbar": {
             "outlinewidth": 0,
             "ticks": ""
            },
            "colorscale": [
             [
              0,
              "#0d0887"
             ],
             [
              0.1111111111111111,
              "#46039f"
             ],
             [
              0.2222222222222222,
              "#7201a8"
             ],
             [
              0.3333333333333333,
              "#9c179e"
             ],
             [
              0.4444444444444444,
              "#bd3786"
             ],
             [
              0.5555555555555556,
              "#d8576b"
             ],
             [
              0.6666666666666666,
              "#ed7953"
             ],
             [
              0.7777777777777778,
              "#fb9f3a"
             ],
             [
              0.8888888888888888,
              "#fdca26"
             ],
             [
              1,
              "#f0f921"
             ]
            ],
            "type": "contour"
           }
          ],
          "contourcarpet": [
           {
            "colorbar": {
             "outlinewidth": 0,
             "ticks": ""
            },
            "type": "contourcarpet"
           }
          ],
          "heatmap": [
           {
            "colorbar": {
             "outlinewidth": 0,
             "ticks": ""
            },
            "colorscale": [
             [
              0,
              "#0d0887"
             ],
             [
              0.1111111111111111,
              "#46039f"
             ],
             [
              0.2222222222222222,
              "#7201a8"
             ],
             [
              0.3333333333333333,
              "#9c179e"
             ],
             [
              0.4444444444444444,
              "#bd3786"
             ],
             [
              0.5555555555555556,
              "#d8576b"
             ],
             [
              0.6666666666666666,
              "#ed7953"
             ],
             [
              0.7777777777777778,
              "#fb9f3a"
             ],
             [
              0.8888888888888888,
              "#fdca26"
             ],
             [
              1,
              "#f0f921"
             ]
            ],
            "type": "heatmap"
           }
          ],
          "heatmapgl": [
           {
            "colorbar": {
             "outlinewidth": 0,
             "ticks": ""
            },
            "colorscale": [
             [
              0,
              "#0d0887"
             ],
             [
              0.1111111111111111,
              "#46039f"
             ],
             [
              0.2222222222222222,
              "#7201a8"
             ],
             [
              0.3333333333333333,
              "#9c179e"
             ],
             [
              0.4444444444444444,
              "#bd3786"
             ],
             [
              0.5555555555555556,
              "#d8576b"
             ],
             [
              0.6666666666666666,
              "#ed7953"
             ],
             [
              0.7777777777777778,
              "#fb9f3a"
             ],
             [
              0.8888888888888888,
              "#fdca26"
             ],
             [
              1,
              "#f0f921"
             ]
            ],
            "type": "heatmapgl"
           }
          ],
          "histogram": [
           {
            "marker": {
             "pattern": {
              "fillmode": "overlay",
              "size": 10,
              "solidity": 0.2
             }
            },
            "type": "histogram"
           }
          ],
          "histogram2d": [
           {
            "colorbar": {
             "outlinewidth": 0,
             "ticks": ""
            },
            "colorscale": [
             [
              0,
              "#0d0887"
             ],
             [
              0.1111111111111111,
              "#46039f"
             ],
             [
              0.2222222222222222,
              "#7201a8"
             ],
             [
              0.3333333333333333,
              "#9c179e"
             ],
             [
              0.4444444444444444,
              "#bd3786"
             ],
             [
              0.5555555555555556,
              "#d8576b"
             ],
             [
              0.6666666666666666,
              "#ed7953"
             ],
             [
              0.7777777777777778,
              "#fb9f3a"
             ],
             [
              0.8888888888888888,
              "#fdca26"
             ],
             [
              1,
              "#f0f921"
             ]
            ],
            "type": "histogram2d"
           }
          ],
          "histogram2dcontour": [
           {
            "colorbar": {
             "outlinewidth": 0,
             "ticks": ""
            },
            "colorscale": [
             [
              0,
              "#0d0887"
             ],
             [
              0.1111111111111111,
              "#46039f"
             ],
             [
              0.2222222222222222,
              "#7201a8"
             ],
             [
              0.3333333333333333,
              "#9c179e"
             ],
             [
              0.4444444444444444,
              "#bd3786"
             ],
             [
              0.5555555555555556,
              "#d8576b"
             ],
             [
              0.6666666666666666,
              "#ed7953"
             ],
             [
              0.7777777777777778,
              "#fb9f3a"
             ],
             [
              0.8888888888888888,
              "#fdca26"
             ],
             [
              1,
              "#f0f921"
             ]
            ],
            "type": "histogram2dcontour"
           }
          ],
          "mesh3d": [
           {
            "colorbar": {
             "outlinewidth": 0,
             "ticks": ""
            },
            "type": "mesh3d"
           }
          ],
          "parcoords": [
           {
            "line": {
             "colorbar": {
              "outlinewidth": 0,
              "ticks": ""
             }
            },
            "type": "parcoords"
           }
          ],
          "pie": [
           {
            "automargin": true,
            "type": "pie"
           }
          ],
          "scatter": [
           {
            "marker": {
             "colorbar": {
              "outlinewidth": 0,
              "ticks": ""
             }
            },
            "type": "scatter"
           }
          ],
          "scatter3d": [
           {
            "line": {
             "colorbar": {
              "outlinewidth": 0,
              "ticks": ""
             }
            },
            "marker": {
             "colorbar": {
              "outlinewidth": 0,
              "ticks": ""
             }
            },
            "type": "scatter3d"
           }
          ],
          "scattercarpet": [
           {
            "marker": {
             "colorbar": {
              "outlinewidth": 0,
              "ticks": ""
             }
            },
            "type": "scattercarpet"
           }
          ],
          "scattergeo": [
           {
            "marker": {
             "colorbar": {
              "outlinewidth": 0,
              "ticks": ""
             }
            },
            "type": "scattergeo"
           }
          ],
          "scattergl": [
           {
            "marker": {
             "colorbar": {
              "outlinewidth": 0,
              "ticks": ""
             }
            },
            "type": "scattergl"
           }
          ],
          "scattermapbox": [
           {
            "marker": {
             "colorbar": {
              "outlinewidth": 0,
              "ticks": ""
             }
            },
            "type": "scattermapbox"
           }
          ],
          "scatterpolar": [
           {
            "marker": {
             "colorbar": {
              "outlinewidth": 0,
              "ticks": ""
             }
            },
            "type": "scatterpolar"
           }
          ],
          "scatterpolargl": [
           {
            "marker": {
             "colorbar": {
              "outlinewidth": 0,
              "ticks": ""
             }
            },
            "type": "scatterpolargl"
           }
          ],
          "scatterternary": [
           {
            "marker": {
             "colorbar": {
              "outlinewidth": 0,
              "ticks": ""
             }
            },
            "type": "scatterternary"
           }
          ],
          "surface": [
           {
            "colorbar": {
             "outlinewidth": 0,
             "ticks": ""
            },
            "colorscale": [
             [
              0,
              "#0d0887"
             ],
             [
              0.1111111111111111,
              "#46039f"
             ],
             [
              0.2222222222222222,
              "#7201a8"
             ],
             [
              0.3333333333333333,
              "#9c179e"
             ],
             [
              0.4444444444444444,
              "#bd3786"
             ],
             [
              0.5555555555555556,
              "#d8576b"
             ],
             [
              0.6666666666666666,
              "#ed7953"
             ],
             [
              0.7777777777777778,
              "#fb9f3a"
             ],
             [
              0.8888888888888888,
              "#fdca26"
             ],
             [
              1,
              "#f0f921"
             ]
            ],
            "type": "surface"
           }
          ],
          "table": [
           {
            "cells": {
             "fill": {
              "color": "#EBF0F8"
             },
             "line": {
              "color": "white"
             }
            },
            "header": {
             "fill": {
              "color": "#C8D4E3"
             },
             "line": {
              "color": "white"
             }
            },
            "type": "table"
           }
          ]
         },
         "layout": {
          "annotationdefaults": {
           "arrowcolor": "#2a3f5f",
           "arrowhead": 0,
           "arrowwidth": 1
          },
          "autotypenumbers": "strict",
          "coloraxis": {
           "colorbar": {
            "outlinewidth": 0,
            "ticks": ""
           }
          },
          "colorscale": {
           "diverging": [
            [
             0,
             "#8e0152"
            ],
            [
             0.1,
             "#c51b7d"
            ],
            [
             0.2,
             "#de77ae"
            ],
            [
             0.3,
             "#f1b6da"
            ],
            [
             0.4,
             "#fde0ef"
            ],
            [
             0.5,
             "#f7f7f7"
            ],
            [
             0.6,
             "#e6f5d0"
            ],
            [
             0.7,
             "#b8e186"
            ],
            [
             0.8,
             "#7fbc41"
            ],
            [
             0.9,
             "#4d9221"
            ],
            [
             1,
             "#276419"
            ]
           ],
           "sequential": [
            [
             0,
             "#0d0887"
            ],
            [
             0.1111111111111111,
             "#46039f"
            ],
            [
             0.2222222222222222,
             "#7201a8"
            ],
            [
             0.3333333333333333,
             "#9c179e"
            ],
            [
             0.4444444444444444,
             "#bd3786"
            ],
            [
             0.5555555555555556,
             "#d8576b"
            ],
            [
             0.6666666666666666,
             "#ed7953"
            ],
            [
             0.7777777777777778,
             "#fb9f3a"
            ],
            [
             0.8888888888888888,
             "#fdca26"
            ],
            [
             1,
             "#f0f921"
            ]
           ],
           "sequentialminus": [
            [
             0,
             "#0d0887"
            ],
            [
             0.1111111111111111,
             "#46039f"
            ],
            [
             0.2222222222222222,
             "#7201a8"
            ],
            [
             0.3333333333333333,
             "#9c179e"
            ],
            [
             0.4444444444444444,
             "#bd3786"
            ],
            [
             0.5555555555555556,
             "#d8576b"
            ],
            [
             0.6666666666666666,
             "#ed7953"
            ],
            [
             0.7777777777777778,
             "#fb9f3a"
            ],
            [
             0.8888888888888888,
             "#fdca26"
            ],
            [
             1,
             "#f0f921"
            ]
           ]
          },
          "colorway": [
           "#636efa",
           "#EF553B",
           "#00cc96",
           "#ab63fa",
           "#FFA15A",
           "#19d3f3",
           "#FF6692",
           "#B6E880",
           "#FF97FF",
           "#FECB52"
          ],
          "font": {
           "color": "#2a3f5f"
          },
          "geo": {
           "bgcolor": "white",
           "lakecolor": "white",
           "landcolor": "#E5ECF6",
           "showlakes": true,
           "showland": true,
           "subunitcolor": "white"
          },
          "hoverlabel": {
           "align": "left"
          },
          "hovermode": "closest",
          "mapbox": {
           "style": "light"
          },
          "paper_bgcolor": "white",
          "plot_bgcolor": "#E5ECF6",
          "polar": {
           "angularaxis": {
            "gridcolor": "white",
            "linecolor": "white",
            "ticks": ""
           },
           "bgcolor": "#E5ECF6",
           "radialaxis": {
            "gridcolor": "white",
            "linecolor": "white",
            "ticks": ""
           }
          },
          "scene": {
           "xaxis": {
            "backgroundcolor": "#E5ECF6",
            "gridcolor": "white",
            "gridwidth": 2,
            "linecolor": "white",
            "showbackground": true,
            "ticks": "",
            "zerolinecolor": "white"
           },
           "yaxis": {
            "backgroundcolor": "#E5ECF6",
            "gridcolor": "white",
            "gridwidth": 2,
            "linecolor": "white",
            "showbackground": true,
            "ticks": "",
            "zerolinecolor": "white"
           },
           "zaxis": {
            "backgroundcolor": "#E5ECF6",
            "gridcolor": "white",
            "gridwidth": 2,
            "linecolor": "white",
            "showbackground": true,
            "ticks": "",
            "zerolinecolor": "white"
           }
          },
          "shapedefaults": {
           "line": {
            "color": "#2a3f5f"
           }
          },
          "ternary": {
           "aaxis": {
            "gridcolor": "white",
            "linecolor": "white",
            "ticks": ""
           },
           "baxis": {
            "gridcolor": "white",
            "linecolor": "white",
            "ticks": ""
           },
           "bgcolor": "#E5ECF6",
           "caxis": {
            "gridcolor": "white",
            "linecolor": "white",
            "ticks": ""
           }
          },
          "title": {
           "x": 0.05
          },
          "xaxis": {
           "automargin": true,
           "gridcolor": "white",
           "linecolor": "white",
           "ticks": "",
           "title": {
            "standoff": 15
           },
           "zerolinecolor": "white",
           "zerolinewidth": 2
          },
          "yaxis": {
           "automargin": true,
           "gridcolor": "white",
           "linecolor": "white",
           "ticks": "",
           "title": {
            "standoff": 15
           },
           "zerolinecolor": "white",
           "zerolinewidth": 2
          }
         }
        },
        "title": {
         "text": "Top 10 most profitable films"
        },
        "xaxis": {
         "anchor": "y",
         "categoryarray": [
          "27 Dresses",
          "(500) Days of Summer",
          "A Dangerous Method",
          "A Serious Man",
          "Across the Universe",
          "Beginners",
          "Dear John",
          "Enchanted",
          "Fireproof",
          "Four Christmases",
          "Ghosts of Girlfriends Past",
          "Gnomeo and Juliet",
          "Going the Distance",
          "Good Luck Chuck",
          "He's Just Not That Into You",
          "High School Musical 3: Senior Year",
          "I Love You Phillip Morris",
          "It's Complicated",
          "Jane Eyre",
          "Just Wright",
          "Killers",
          "Knocked Up",
          "Leap Year",
          "Letters to Juliet",
          "License to Wed",
          "Life as We Know It",
          "Love & Other Drugs",
          "Love Happens",
          "Made of Honor",
          "Mamma Mia!",
          "Marley and Me",
          "Midnight in Paris",
          "Miss Pettigrew Lives for a Day",
          "Monte Carlo",
          "Music and Lyrics",
          "My Week with Marilyn",
          "New Year's Eve",
          "Nick and Norah's Infinite Playlist",
          "No Reservations",
          "Not Easily Broken",
          "One Day",
          "Our Family Wedding",
          "Over Her Dead Body",
          "P.S. I Love You",
          "Penelope",
          "Rachel Getting Married",
          "Remember Me",
          "Sex and the City",
          "Sex and the City 2",
          "She's Out of My League",
          "Something Borrowed",
          "Tangled",
          "The Back-up Plan",
          "The Curious Case of Benjamin Button",
          "The Duchess",
          "The Heartbreak Kid",
          "The Invention of Lying",
          "The Proposal",
          "The Time Traveler's Wife",
          "The Twilight Saga: New Moon",
          "The Ugly Truth",
          "Twilight",
          "Twilight: Breaking Dawn",
          "Tyler Perry's Why Did I get Married",
          "Valentine's Day",
          "Waiting For Forever",
          "Waitress",
          "WALL-E",
          "Water For Elephants",
          "What Happens in Vegas",
          "When in Rome",
          "You Will Meet a Tall Dark Stranger",
          "Youth in Revolt",
          "Zack and Miri Make a Porno"
         ],
         "categoryorder": "total descending",
         "domain": [
          0,
          1
         ],
         "range": [
          0,
          9
         ],
         "title": {
          "text": "Film"
         },
         "type": "category"
        },
        "yaxis": {
         "anchor": "x",
         "autorange": true,
         "domain": [
          0,
          1
         ],
         "range": [
          0,
          70.45684210526315
         ],
         "title": {
          "text": "Profitability"
         },
         "type": "linear"
        }
       }
      },
      "image/png": "[encoded data removed]"
     },
     "metadata": {},
     "output_type": "display_data"
    }
   ],
   "source": [
    "import pandas as pd\n",
    "import plotly.express as px\n",
    "col_list = [ \"Profitability\",\"Film\"]\n",
    "df = pd.read_csv('HollywoodsMostProfitableStories.csv', usecols=col_list)\n",
    "fig = px.bar(df, x = 'Film', y = 'Profitability', title='Top 10 most profitable films',color='Film',barmode='stack')\n",
    "fig.update_layout(barmode='stack', xaxis={'categoryorder':'total descending'})\n",
    "fig.update_xaxes(range=(-.0, 9))\n",
    "fig.show()"
   ]
  },
  {
   "cell_type": "markdown",
   "id": "mobile-hypothesis",
   "metadata": {
    "id": "mobile-hypothesis"
   },
   "source": [
    "2.\tCreate a histogram showing the number of films for each Genre. The X-axis is the Genre. The Y-axis is the number of films in the spreadsheet from each Genre. "
   ]
  },
  {
   "cell_type": "code",
   "execution_count": 1,
   "id": "greenhouse-drinking",
   "metadata": {
    "id": "greenhouse-drinking"
   },
   "outputs": [
    {
     "ename": "NameError",
     "evalue": "name 'data' is not defined",
     "output_type": "error",
     "traceback": [
      "\u001b[1;31m---------------------------------------------------------------------------\u001b[0m",
      "\u001b[1;31mNameError\u001b[0m                                 Traceback (most recent call last)",
      "\u001b[1;32m~\\AppData\\Local\\Temp/ipykernel_13116/1942465215.py\u001b[0m in \u001b[0;36m<module>\u001b[1;34m\u001b[0m\n\u001b[0;32m      6\u001b[0m \u001b[1;31m# Read in the DataFrame\u001b[0m\u001b[1;33m\u001b[0m\u001b[1;33m\u001b[0m\u001b[0m\n\u001b[0;32m      7\u001b[0m \u001b[0mdf\u001b[0m \u001b[1;33m=\u001b[0m \u001b[0mpd\u001b[0m\u001b[1;33m.\u001b[0m\u001b[0mread_csv\u001b[0m\u001b[1;33m(\u001b[0m\u001b[1;34m'HollywoodsMostProfitableStories.csv'\u001b[0m\u001b[1;33m)\u001b[0m\u001b[1;33m\u001b[0m\u001b[1;33m\u001b[0m\u001b[0m\n\u001b[1;32m----> 8\u001b[1;33m \u001b[0mplt\u001b[0m\u001b[1;33m.\u001b[0m\u001b[0mhist\u001b[0m\u001b[1;33m(\u001b[0m\u001b[0mdata\u001b[0m\u001b[1;33m[\u001b[0m\u001b[1;34m'Genre'\u001b[0m\u001b[1;33m,\u001b[0m\u001b[1;34m'Film'\u001b[0m\u001b[1;33m]\u001b[0m\u001b[1;33m,\u001b[0m \u001b[0mbins\u001b[0m\u001b[1;33m=\u001b[0m\u001b[1;36m10\u001b[0m\u001b[1;33m,\u001b[0m \u001b[0malpha\u001b[0m\u001b[1;33m=\u001b[0m\u001b[1;36m.5\u001b[0m\u001b[1;33m)\u001b[0m\u001b[1;33m\u001b[0m\u001b[1;33m\u001b[0m\u001b[0m\n\u001b[0m\u001b[0;32m      9\u001b[0m \u001b[1;33m\u001b[0m\u001b[0m\n\u001b[0;32m     10\u001b[0m \u001b[0mplt\u001b[0m\u001b[1;33m.\u001b[0m\u001b[0mxlabel\u001b[0m\u001b[1;33m(\u001b[0m\u001b[1;34m\"Genre\"\u001b[0m\u001b[1;33m)\u001b[0m\u001b[1;33m\u001b[0m\u001b[1;33m\u001b[0m\u001b[0m\n",
      "\u001b[1;31mNameError\u001b[0m: name 'data' is not defined"
     ]
    }
   ],
   "source": [
    "# import all modules\n",
    "import pandas as pd\n",
    "import seaborn as sns\n",
    "import matplotlib.pyplot as plt\n",
    "\n",
    "# Read in the DataFrame\n",
    "df = pd.read_csv('HollywoodsMostProfitableStories.csv')\n",
    "plt.hist(data['Genre','Film'], bins=10, alpha=.5)\n",
    "\n",
    "plt.xlabel(\"Genre\")\n",
    "#histogram y axis label\n",
    "plt.ylabel(\"Number of movies\")\n",
    "plt.show()"
   ]
  },
  {
   "cell_type": "markdown",
   "id": "circular-repeat",
   "metadata": {
    "id": "circular-repeat"
   },
   "source": [
    "3.\tCreate a line chart showing the average Profitability of the films for each year. The X-axis is the Year. The Y-axis is the average Profitability for each year. "
   ]
  },
  {
   "cell_type": "code",
   "execution_count": 6,
   "id": "latest-arrival",
   "metadata": {
    "id": "latest-arrival"
   },
   "outputs": [
    {
     "data": {
      "application/vnd.plotly.v1+json": {
       "config": {
        "plotlyServerURL": "https://plot.ly"
       },
       "data": [
        {
         "hovertemplate": "Year=%{x}<br>Profitability=%{y}<extra></extra>",
         "legendgroup": "",
         "line": {
          "color": "#636efa",
          "dash": "solid"
         },
         "marker": {
          "symbol": "circle"
         },
         "mode": "lines",
         "name": "",
         "orientation": "v",
         "showlegend": false,
         "type": "scatter",
         "x": [
          2008,
          2009,
          2011,
          2009,
          2007,
          2011,
          2010,
          2007,
          2008,
          2008,
          2009,
          2011,
          2010,
          2007,
          2009,
          2008,
          2010,
          2009,
          2011,
          2010,
          2010,
          2007,
          2010,
          2010,
          2007,
          2010,
          2010,
          2009,
          2008,
          2008,
          2008,
          2011,
          2008,
          2011,
          2007,
          2011,
          2011,
          2008,
          2007,
          2009,
          2011,
          2010,
          2008,
          2007,
          2008,
          2008,
          2010,
          2008,
          2010,
          2010,
          2011,
          2010,
          2010,
          2008,
          2008,
          2007,
          2009,
          2009,
          2009,
          2009,
          2009,
          2008,
          2011,
          2007,
          2010,
          2011,
          2007,
          2008,
          2011,
          2008,
          2010,
          2010,
          2010,
          2008
         ],
         "xaxis": "x",
         "y": [
          5.3436218,
          8.096,
          0.44864475,
          4.382857143,
          0.652603178,
          4.471875,
          4.5988,
          4.005737082,
          66.934,
          2.022925,
          2.0444,
          5.387972222,
          1.3140625,
          2.36768512,
          7.1536,
          22.91313646,
          1.34,
          2.642352941,
          null,
          1.797416667,
          1.245333333,
          6.636401848,
          1.715263158,
          2.639333333,
          1.9802064,
          2.530526316,
          1.817666667,
          2.004444444,
          2.64906835,
          9.234453864,
          3.746781818,
          8.744705882,
          0.2528949,
          1.9832,
          3.64741055,
          0.8258,
          2.536428571,
          3.3527293,
          3.307180357,
          2.14,
          3.682733333,
          null,
          2.071,
          5.103116833,
          1.382799733,
          1.384166667,
          3.49125,
          7.221795791,
          2.8835,
          2.4405,
          1.719514286,
          1.365692308,
          2.202571429,
          1.78394375,
          3.207850222,
          2.129444167,
          1.751351351,
          7.8675,
          2.598205128,
          14.1964,
          5.402631579,
          10.18002703,
          6.383363636,
          3.7241924,
          4.184038462,
          0.005,
          11.0897415,
          2.896019067,
          3.081421053,
          6.267647029,
          null,
          1.211818182,
          1.09,
          1.747541667
         ],
         "yaxis": "y"
        }
       ],
       "layout": {
        "autosize": true,
        "legend": {
         "tracegroupgap": 0
        },
        "template": {
         "data": {
          "bar": [
           {
            "error_x": {
             "color": "#2a3f5f"
            },
            "error_y": {
             "color": "#2a3f5f"
            },
            "marker": {
             "line": {
              "color": "#E5ECF6",
              "width": 0.5
             },
             "pattern": {
              "fillmode": "overlay",
              "size": 10,
              "solidity": 0.2
             }
            },
            "type": "bar"
           }
          ],
          "barpolar": [
           {
            "marker": {
             "line": {
              "color": "#E5ECF6",
              "width": 0.5
             },
             "pattern": {
              "fillmode": "overlay",
              "size": 10,
              "solidity": 0.2
             }
            },
            "type": "barpolar"
           }
          ],
          "carpet": [
           {
            "aaxis": {
             "endlinecolor": "#2a3f5f",
             "gridcolor": "white",
             "linecolor": "white",
             "minorgridcolor": "white",
             "startlinecolor": "#2a3f5f"
            },
            "baxis": {
             "endlinecolor": "#2a3f5f",
             "gridcolor": "white",
             "linecolor": "white",
             "minorgridcolor": "white",
             "startlinecolor": "#2a3f5f"
            },
            "type": "carpet"
           }
          ],
          "choropleth": [
           {
            "colorbar": {
             "outlinewidth": 0,
             "ticks": ""
            },
            "type": "choropleth"
           }
          ],
          "contour": [
           {
            "colorbar": {
             "outlinewidth": 0,
             "ticks": ""
            },
            "colorscale": [
             [
              0,
              "#0d0887"
             ],
             [
              0.1111111111111111,
              "#46039f"
             ],
             [
              0.2222222222222222,
              "#7201a8"
             ],
             [
              0.3333333333333333,
              "#9c179e"
             ],
             [
              0.4444444444444444,
              "#bd3786"
             ],
             [
              0.5555555555555556,
              "#d8576b"
             ],
             [
              0.6666666666666666,
              "#ed7953"
             ],
             [
              0.7777777777777778,
              "#fb9f3a"
             ],
             [
              0.8888888888888888,
              "#fdca26"
             ],
             [
              1,
              "#f0f921"
             ]
            ],
            "type": "contour"
           }
          ],
          "contourcarpet": [
           {
            "colorbar": {
             "outlinewidth": 0,
             "ticks": ""
            },
            "type": "contourcarpet"
           }
          ],
          "heatmap": [
           {
            "colorbar": {
             "outlinewidth": 0,
             "ticks": ""
            },
            "colorscale": [
             [
              0,
              "#0d0887"
             ],
             [
              0.1111111111111111,
              "#46039f"
             ],
             [
              0.2222222222222222,
              "#7201a8"
             ],
             [
              0.3333333333333333,
              "#9c179e"
             ],
             [
              0.4444444444444444,
              "#bd3786"
             ],
             [
              0.5555555555555556,
              "#d8576b"
             ],
             [
              0.6666666666666666,
              "#ed7953"
             ],
             [
              0.7777777777777778,
              "#fb9f3a"
             ],
             [
              0.8888888888888888,
              "#fdca26"
             ],
             [
              1,
              "#f0f921"
             ]
            ],
            "type": "heatmap"
           }
          ],
          "heatmapgl": [
           {
            "colorbar": {
             "outlinewidth": 0,
             "ticks": ""
            },
            "colorscale": [
             [
              0,
              "#0d0887"
             ],
             [
              0.1111111111111111,
              "#46039f"
             ],
             [
              0.2222222222222222,
              "#7201a8"
             ],
             [
              0.3333333333333333,
              "#9c179e"
             ],
             [
              0.4444444444444444,
              "#bd3786"
             ],
             [
              0.5555555555555556,
              "#d8576b"
             ],
             [
              0.6666666666666666,
              "#ed7953"
             ],
             [
              0.7777777777777778,
              "#fb9f3a"
             ],
             [
              0.8888888888888888,
              "#fdca26"
             ],
             [
              1,
              "#f0f921"
             ]
            ],
            "type": "heatmapgl"
           }
          ],
          "histogram": [
           {
            "marker": {
             "pattern": {
              "fillmode": "overlay",
              "size": 10,
              "solidity": 0.2
             }
            },
            "type": "histogram"
           }
          ],
          "histogram2d": [
           {
            "colorbar": {
             "outlinewidth": 0,
             "ticks": ""
            },
            "colorscale": [
             [
              0,
              "#0d0887"
             ],
             [
              0.1111111111111111,
              "#46039f"
             ],
             [
              0.2222222222222222,
              "#7201a8"
             ],
             [
              0.3333333333333333,
              "#9c179e"
             ],
             [
              0.4444444444444444,
              "#bd3786"
             ],
             [
              0.5555555555555556,
              "#d8576b"
             ],
             [
              0.6666666666666666,
              "#ed7953"
             ],
             [
              0.7777777777777778,
              "#fb9f3a"
             ],
             [
              0.8888888888888888,
              "#fdca26"
             ],
             [
              1,
              "#f0f921"
             ]
            ],
            "type": "histogram2d"
           }
          ],
          "histogram2dcontour": [
           {
            "colorbar": {
             "outlinewidth": 0,
             "ticks": ""
            },
            "colorscale": [
             [
              0,
              "#0d0887"
             ],
             [
              0.1111111111111111,
              "#46039f"
             ],
             [
              0.2222222222222222,
              "#7201a8"
             ],
             [
              0.3333333333333333,
              "#9c179e"
             ],
             [
              0.4444444444444444,
              "#bd3786"
             ],
             [
              0.5555555555555556,
              "#d8576b"
             ],
             [
              0.6666666666666666,
              "#ed7953"
             ],
             [
              0.7777777777777778,
              "#fb9f3a"
             ],
             [
              0.8888888888888888,
              "#fdca26"
             ],
             [
              1,
              "#f0f921"
             ]
            ],
            "type": "histogram2dcontour"
           }
          ],
          "mesh3d": [
           {
            "colorbar": {
             "outlinewidth": 0,
             "ticks": ""
            },
            "type": "mesh3d"
           }
          ],
          "parcoords": [
           {
            "line": {
             "colorbar": {
              "outlinewidth": 0,
              "ticks": ""
             }
            },
            "type": "parcoords"
           }
          ],
          "pie": [
           {
            "automargin": true,
            "type": "pie"
           }
          ],
          "scatter": [
           {
            "marker": {
             "colorbar": {
              "outlinewidth": 0,
              "ticks": ""
             }
            },
            "type": "scatter"
           }
          ],
          "scatter3d": [
           {
            "line": {
             "colorbar": {
              "outlinewidth": 0,
              "ticks": ""
             }
            },
            "marker": {
             "colorbar": {
              "outlinewidth": 0,
              "ticks": ""
             }
            },
            "type": "scatter3d"
           }
          ],
          "scattercarpet": [
           {
            "marker": {
             "colorbar": {
              "outlinewidth": 0,
              "ticks": ""
             }
            },
            "type": "scattercarpet"
           }
          ],
          "scattergeo": [
           {
            "marker": {
             "colorbar": {
              "outlinewidth": 0,
              "ticks": ""
             }
            },
            "type": "scattergeo"
           }
          ],
          "scattergl": [
           {
            "marker": {
             "colorbar": {
              "outlinewidth": 0,
              "ticks": ""
             }
            },
            "type": "scattergl"
           }
          ],
          "scattermapbox": [
           {
            "marker": {
             "colorbar": {
              "outlinewidth": 0,
              "ticks": ""
             }
            },
            "type": "scattermapbox"
           }
          ],
          "scatterpolar": [
           {
            "marker": {
             "colorbar": {
              "outlinewidth": 0,
              "ticks": ""
             }
            },
            "type": "scatterpolar"
           }
          ],
          "scatterpolargl": [
           {
            "marker": {
             "colorbar": {
              "outlinewidth": 0,
              "ticks": ""
             }
            },
            "type": "scatterpolargl"
           }
          ],
          "scatterternary": [
           {
            "marker": {
             "colorbar": {
              "outlinewidth": 0,
              "ticks": ""
             }
            },
            "type": "scatterternary"
           }
          ],
          "surface": [
           {
            "colorbar": {
             "outlinewidth": 0,
             "ticks": ""
            },
            "colorscale": [
             [
              0,
              "#0d0887"
             ],
             [
              0.1111111111111111,
              "#46039f"
             ],
             [
              0.2222222222222222,
              "#7201a8"
             ],
             [
              0.3333333333333333,
              "#9c179e"
             ],
             [
              0.4444444444444444,
              "#bd3786"
             ],
             [
              0.5555555555555556,
              "#d8576b"
             ],
             [
              0.6666666666666666,
              "#ed7953"
             ],
             [
              0.7777777777777778,
              "#fb9f3a"
             ],
             [
              0.8888888888888888,
              "#fdca26"
             ],
             [
              1,
              "#f0f921"
             ]
            ],
            "type": "surface"
           }
          ],
          "table": [
           {
            "cells": {
             "fill": {
              "color": "#EBF0F8"
             },
             "line": {
              "color": "white"
             }
            },
            "header": {
             "fill": {
              "color": "#C8D4E3"
             },
             "line": {
              "color": "white"
             }
            },
            "type": "table"
           }
          ]
         },
         "layout": {
          "annotationdefaults": {
           "arrowcolor": "#2a3f5f",
           "arrowhead": 0,
           "arrowwidth": 1
          },
          "autotypenumbers": "strict",
          "coloraxis": {
           "colorbar": {
            "outlinewidth": 0,
            "ticks": ""
           }
          },
          "colorscale": {
           "diverging": [
            [
             0,
             "#8e0152"
            ],
            [
             0.1,
             "#c51b7d"
            ],
            [
             0.2,
             "#de77ae"
            ],
            [
             0.3,
             "#f1b6da"
            ],
            [
             0.4,
             "#fde0ef"
            ],
            [
             0.5,
             "#f7f7f7"
            ],
            [
             0.6,
             "#e6f5d0"
            ],
            [
             0.7,
             "#b8e186"
            ],
            [
             0.8,
             "#7fbc41"
            ],
            [
             0.9,
             "#4d9221"
            ],
            [
             1,
             "#276419"
            ]
           ],
           "sequential": [
            [
             0,
             "#0d0887"
            ],
            [
             0.1111111111111111,
             "#46039f"
            ],
            [
             0.2222222222222222,
             "#7201a8"
            ],
            [
             0.3333333333333333,
             "#9c179e"
            ],
            [
             0.4444444444444444,
             "#bd3786"
            ],
            [
             0.5555555555555556,
             "#d8576b"
            ],
            [
             0.6666666666666666,
             "#ed7953"
            ],
            [
             0.7777777777777778,
             "#fb9f3a"
            ],
            [
             0.8888888888888888,
             "#fdca26"
            ],
            [
             1,
             "#f0f921"
            ]
           ],
           "sequentialminus": [
            [
             0,
             "#0d0887"
            ],
            [
             0.1111111111111111,
             "#46039f"
            ],
            [
             0.2222222222222222,
             "#7201a8"
            ],
            [
             0.3333333333333333,
             "#9c179e"
            ],
            [
             0.4444444444444444,
             "#bd3786"
            ],
            [
             0.5555555555555556,
             "#d8576b"
            ],
            [
             0.6666666666666666,
             "#ed7953"
            ],
            [
             0.7777777777777778,
             "#fb9f3a"
            ],
            [
             0.8888888888888888,
             "#fdca26"
            ],
            [
             1,
             "#f0f921"
            ]
           ]
          },
          "colorway": [
           "#636efa",
           "#EF553B",
           "#00cc96",
           "#ab63fa",
           "#FFA15A",
           "#19d3f3",
           "#FF6692",
           "#B6E880",
           "#FF97FF",
           "#FECB52"
          ],
          "font": {
           "color": "#2a3f5f"
          },
          "geo": {
           "bgcolor": "white",
           "lakecolor": "white",
           "landcolor": "#E5ECF6",
           "showlakes": true,
           "showland": true,
           "subunitcolor": "white"
          },
          "hoverlabel": {
           "align": "left"
          },
          "hovermode": "closest",
          "mapbox": {
           "style": "light"
          },
          "paper_bgcolor": "white",
          "plot_bgcolor": "#E5ECF6",
          "polar": {
           "angularaxis": {
            "gridcolor": "white",
            "linecolor": "white",
            "ticks": ""
           },
           "bgcolor": "#E5ECF6",
           "radialaxis": {
            "gridcolor": "white",
            "linecolor": "white",
            "ticks": ""
           }
          },
          "scene": {
           "xaxis": {
            "backgroundcolor": "#E5ECF6",
            "gridcolor": "white",
            "gridwidth": 2,
            "linecolor": "white",
            "showbackground": true,
            "ticks": "",
            "zerolinecolor": "white"
           },
           "yaxis": {
            "backgroundcolor": "#E5ECF6",
            "gridcolor": "white",
            "gridwidth": 2,
            "linecolor": "white",
            "showbackground": true,
            "ticks": "",
            "zerolinecolor": "white"
           },
           "zaxis": {
            "backgroundcolor": "#E5ECF6",
            "gridcolor": "white",
            "gridwidth": 2,
            "linecolor": "white",
            "showbackground": true,
            "ticks": "",
            "zerolinecolor": "white"
           }
          },
          "shapedefaults": {
           "line": {
            "color": "#2a3f5f"
           }
          },
          "ternary": {
           "aaxis": {
            "gridcolor": "white",
            "linecolor": "white",
            "ticks": ""
           },
           "baxis": {
            "gridcolor": "white",
            "linecolor": "white",
            "ticks": ""
           },
           "bgcolor": "#E5ECF6",
           "caxis": {
            "gridcolor": "white",
            "linecolor": "white",
            "ticks": ""
           }
          },
          "title": {
           "x": 0.05
          },
          "xaxis": {
           "automargin": true,
           "gridcolor": "white",
           "linecolor": "white",
           "ticks": "",
           "title": {
            "standoff": 15
           },
           "zerolinecolor": "white",
           "zerolinewidth": 2
          },
          "yaxis": {
           "automargin": true,
           "gridcolor": "white",
           "linecolor": "white",
           "ticks": "",
           "title": {
            "standoff": 15
           },
           "zerolinecolor": "white",
           "zerolinewidth": 2
          }
         }
        },
        "title": {
         "text": "Profitability of the films for each year"
        },
        "xaxis": {
         "anchor": "y",
         "autorange": true,
         "domain": [
          0,
          1
         ],
         "range": [
          2007,
          2011
         ],
         "title": {
          "text": "Year"
         },
         "type": "linear"
        },
        "yaxis": {
         "anchor": "x",
         "autorange": true,
         "domain": [
          0,
          1
         ],
         "range": [
          -3.713277777777778,
          70.65227777777777
         ],
         "title": {
          "text": "Profitability"
         },
         "type": "linear"
        }
       }
      },
      "image/png": "[encoded data removed]"
     },
     "metadata": {},
     "output_type": "display_data"
    }
   ],
   "source": [
    "import pandas as pd\n",
    "import plotly.express as px\n",
    "\n",
    "df = pd.read_csv('HollywoodsMostProfitableStories.csv')\n",
    "\n",
    "fig = px.line(df, x = 'Year', y = 'Profitability', title='Profitability of the films for each year')\n",
    "fig.show()"
   ]
  },
  {
   "cell_type": "markdown",
   "id": "stretch-conditions",
   "metadata": {
    "id": "stretch-conditions"
   },
   "source": [
    "4.\tCreate a dot plot showing the top 10 films with the highest Rotten Tomatoes %. The X-axis is the Rotten Tomatoes %. The Y-axis is the film title. "
   ]
  },
  {
   "cell_type": "code",
   "execution_count": 4,
   "id": "large-constitutional",
   "metadata": {
    "id": "large-constitutional"
   },
   "outputs": [
    {
     "ename": "AttributeError",
     "evalue": "module 'pandas' has no attribute 'read'",
     "output_type": "error",
     "traceback": [
      "\u001b[1;31m---------------------------------------------------------------------------\u001b[0m",
      "\u001b[1;31mAttributeError\u001b[0m                            Traceback (most recent call last)",
      "\u001b[1;32m~\\AppData\\Local\\Temp/ipykernel_13116/3849592440.py\u001b[0m in \u001b[0;36m<module>\u001b[1;34m\u001b[0m\n\u001b[0;32m      3\u001b[0m \u001b[1;32mimport\u001b[0m \u001b[0mnumpy\u001b[0m \u001b[1;32mas\u001b[0m \u001b[0mnp\u001b[0m\u001b[1;33m\u001b[0m\u001b[1;33m\u001b[0m\u001b[0m\n\u001b[0;32m      4\u001b[0m \u001b[1;32mimport\u001b[0m \u001b[0mmatplotlib\u001b[0m\u001b[1;33m.\u001b[0m\u001b[0mpyplot\u001b[0m \u001b[1;32mas\u001b[0m \u001b[0mplt\u001b[0m\u001b[1;33m\u001b[0m\u001b[1;33m\u001b[0m\u001b[0m\n\u001b[1;32m----> 5\u001b[1;33m \u001b[0mdata\u001b[0m\u001b[1;33m=\u001b[0m\u001b[0mpd\u001b[0m\u001b[1;33m.\u001b[0m\u001b[0mread\u001b[0m\u001b[1;33m.\u001b[0m\u001b[0mcsv\u001b[0m\u001b[1;33m(\u001b[0m\u001b[1;34m'HollywoodsMostProfitableStories.csv'\u001b[0m\u001b[1;33m)\u001b[0m\u001b[1;33m\u001b[0m\u001b[1;33m\u001b[0m\u001b[0m\n\u001b[0m\u001b[0;32m      6\u001b[0m \u001b[1;33m\u001b[0m\u001b[0m\n\u001b[0;32m      7\u001b[0m \u001b[0mprint\u001b[0m\u001b[1;33m(\u001b[0m\u001b[0mdata\u001b[0m\u001b[1;33m)\u001b[0m\u001b[1;33m\u001b[0m\u001b[1;33m\u001b[0m\u001b[0m\n",
      "\u001b[1;32m~\\anaconda3\\lib\\site-packages\\pandas\\__init__.py\u001b[0m in \u001b[0;36m__getattr__\u001b[1;34m(name)\u001b[0m\n\u001b[0;32m    242\u001b[0m         \u001b[1;32mreturn\u001b[0m \u001b[0m_SparseArray\u001b[0m\u001b[1;33m\u001b[0m\u001b[1;33m\u001b[0m\u001b[0m\n\u001b[0;32m    243\u001b[0m \u001b[1;33m\u001b[0m\u001b[0m\n\u001b[1;32m--> 244\u001b[1;33m     \u001b[1;32mraise\u001b[0m \u001b[0mAttributeError\u001b[0m\u001b[1;33m(\u001b[0m\u001b[1;34mf\"module 'pandas' has no attribute '{name}'\"\u001b[0m\u001b[1;33m)\u001b[0m\u001b[1;33m\u001b[0m\u001b[1;33m\u001b[0m\u001b[0m\n\u001b[0m\u001b[0;32m    245\u001b[0m \u001b[1;33m\u001b[0m\u001b[0m\n\u001b[0;32m    246\u001b[0m \u001b[1;33m\u001b[0m\u001b[0m\n",
      "\u001b[1;31mAttributeError\u001b[0m: module 'pandas' has no attribute 'read'"
     ]
    }
   ],
   "source": [
    "import io\n",
    "import pandas as pd\n",
    "import numpy as np\n",
    "import matplotlib.pyplot as plt\n",
    "data=pd.read.csv('HollywoodsMostProfitableStories.csv')\n",
    "\n",
    "print(data)\n",
    "\n",
    "plot(x = Year,y = Film,\n",
    "\txlab = \"x-axis\",\n",
    "\tylab = \"y-axis\",\n",
    "\tmain = \"Plot\"\n",
    ")\n"
   ]
  },
  {
   "cell_type": "markdown",
   "id": "afraid-rebel",
   "metadata": {
    "id": "afraid-rebel"
   },
   "source": [
    "5.\tCreate a boxplot showing the maximum, minimum, median, first quartile, and third quartile of profitability for each Genre. The X-axis is the Genre. It should be a single figure but with multiple boxplots, one for each Genre. "
   ]
  },
  {
   "cell_type": "code",
   "execution_count": null,
   "id": "human-brunei",
   "metadata": {
    "id": "human-brunei"
   },
   "outputs": [],
   "source": []
  },
  {
   "cell_type": "markdown",
   "id": "advanced-waterproof",
   "metadata": {
    "id": "advanced-waterproof"
   },
   "source": [
    "6.\tCreate a single figure with two bar plots. One plot shows the top 10 films with biggest Worldwide Gross. The second plot shows the top 10 films with the largest Audience. The X-axis is the film index (not title). When the mouse cursor hovers over a bar, the film’s title should be displayed in the tooltip. "
   ]
  },
  {
   "cell_type": "code",
   "execution_count": null,
   "id": "average-assistant",
   "metadata": {
    "id": "average-assistant"
   },
   "outputs": [],
   "source": []
  },
  {
   "cell_type": "markdown",
   "id": "tuSD7jkVzu4H",
   "metadata": {
    "id": "tuSD7jkVzu4H"
   },
   "source": [
    "### Part 2: Plotly Dash\n",
    "\n",
    "7. Load **wimbledons_champions_cleaned.csv**. Create a Plotly Dash application that has the following UI components:<br>\n",
    "- A range slider for “Year”. The range slider allows users to choose a range of years.\n",
    "- A checklist for “Gender”. The checklist has two options: \"Men\" and \"Women\". The default is to check both boxes. \n",
    "\n",
    "There should be two plots in this Dash application. \n",
    "- A histogram that shows the number of champions for each country. \n",
    "- A histogram that shows the number of runner-ups for each country. \n",
    "\n",
    "The plots should be automatically updated if a user interacts with the UI. "
   ]
  },
  {
   "cell_type": "code",
   "execution_count": 7,
   "id": "dependent-observation",
   "metadata": {
    "id": "dependent-observation"
   },
   "outputs": [
    {
     "name": "stdout",
     "output_type": "stream",
     "text": [
      "Dash is running on http://127.0.0.1:8050/\n",
      "\n",
      " * Serving Flask app \"__main__\" (lazy loading)\n",
      " * Environment: production\n",
      "\u001b[31m   WARNING: This is a development server. Do not use it in a production deployment.\u001b[0m\n",
      "\u001b[2m   Use a production WSGI server instead.\u001b[0m\n",
      " * Debug mode: off\n"
     ]
    },
    {
     "name": "stderr",
     "output_type": "stream",
     "text": [
      " * Running on http://127.0.0.1:8050/ (Press CTRL+C to quit)\n"
     ]
    }
   ],
   "source": [
    "from dash import Dash, dcc, html, Input, Output\n",
    "import plotly.express as px\n",
    "import pandas as pd\n",
    "\n",
    "app = Dash(__name__)\n",
    "\n",
    "app.layout = html.Div([\n",
    "    html.H4('Simple stock plot with adjustable axis'),\n",
    "    html.Button(\"Switch Axis\", n_clicks=0, \n",
    "                id='button'),\n",
    "    dcc.Graph(id=\"graph\"),\n",
    "])\n",
    "\n",
    "\n",
    "@app.callback(\n",
    "    Output(\"graph\", \"figure\"), \n",
    "    Input(\"button\", \"n_clicks\"))\n",
    "def display_graph(n_clicks):\n",
    "    df = pd.read_csv('wimbledons_champions_cleaned.csv') # replace with your own data source\n",
    "\n",
    "    if n_clicks % 2 == 0:\n",
    "        x, y = 'Year', 'Gender'\n",
    "    else:\n",
    "        x, y = 'Gender', 'Year'\n",
    "\n",
    "    fig = px.line(df, x=x, y=y)    \n",
    "    return fig\n",
    "\n",
    "\n",
    "app.run_server(debug=False)"
   ]
  },
  {
   "cell_type": "markdown",
   "id": "nkEkHMLOIW0I",
   "metadata": {
    "id": "nkEkHMLOIW0I"
   },
   "source": [
    "8. Load **walmart_store_openings.csv**. Create a Plotly Dash application that has the following UI components:<br>\n",
    "- A Dropdown menu for “STRSTATE”. A user should be able to select multiple states.\n",
    "- RadioItems for “type_store”. There are two options: \"Supercenter\" and \"Wal-Mart\". The default is to check \"Supercenter\". A user should be able to choose either one. \n",
    "\n",
    "There should be two plots in this Dash application. \n",
    "- A line chart that shows the number of stores opened per year. The X-axis is the year. The Y-axis is the number of store opened. \n",
    "- A bar chart that shows the number of stores opened for each state. The X-axis is the number of stores. The Y-axis is the state.\n",
    "\n",
    "The plots should be automatically updated if a user interacts with the UI. "
   ]
  },
  {
   "cell_type": "code",
   "execution_count": 2,
   "id": "a819b9a0",
   "metadata": {},
   "outputs": [
    {
     "name": "stderr",
     "output_type": "stream",
     "text": [
      "C:\\Users\\David\\AppData\\Local\\Temp/ipykernel_13116/647695960.py:6: UserWarning: \n",
      "The dash_core_components package is deprecated. Please replace\n",
      "`import dash_core_components as dcc` with `from dash import dcc`\n",
      "  import dash_core_components as dcc\n",
      "C:\\Users\\David\\AppData\\Local\\Temp/ipykernel_13116/647695960.py:7: UserWarning: \n",
      "The dash_html_components package is deprecated. Please replace\n",
      "`import dash_html_components as html` with `from dash import html`\n",
      "  import dash_html_components as html\n"
     ]
    },
    {
     "name": "stdout",
     "output_type": "stream",
     "text": [
      "Dash is running on http://127.0.0.1:8050/\n",
      "\n",
      " * Serving Flask app '__main__' (lazy loading)\n",
      " * Environment: production\n",
      "\u001b[31m   WARNING: This is a development server. Do not use it in a production deployment.\u001b[0m\n",
      "\u001b[2m   Use a production WSGI server instead.\u001b[0m\n",
      " * Debug mode: on\n"
     ]
    },
    {
     "ename": "SystemExit",
     "evalue": "1",
     "output_type": "error",
     "traceback": [
      "An exception has occurred, use %tb to see the full traceback.\n",
      "\u001b[1;31mSystemExit\u001b[0m\u001b[1;31m:\u001b[0m 1\n"
     ]
    },
    {
     "name": "stderr",
     "output_type": "stream",
     "text": [
      "C:\\Users\\David\\anaconda3\\lib\\site-packages\\IPython\\core\\interactiveshell.py:3452: UserWarning: To exit: use 'exit', 'quit', or Ctrl-D.\n",
      "  warn(\"To exit: use 'exit', 'quit', or Ctrl-D.\", stacklevel=1)\n"
     ]
    }
   ],
   "source": [
    "import json\n",
    "import datetime\n",
    "from textwrap import dedent as d\n",
    "import dash\n",
    "from dash.dependencies import Input, Output\n",
    "import dash_core_components as dcc\n",
    "import dash_html_components as html\n",
    "import pandas as pd\n",
    "\n",
    "df = pd.read_csv(\n",
    "    ('walmart_store_openings.csv'),\n",
    "    parse_dates=[1, 2],\n",
    "    infer_datetime_format=True\n",
    ")\n",
    "future_indices = df['OPENDATE'] > datetime.datetime(year=2050,month=1,day=1)\n",
    "df.loc[future_indices, 'OPENDATE'] -= datetime.timedelta(days=365.25*100)\n",
    "\n",
    "app = dash.Dash(__name__)\n",
    "app.scripts.config.serve_locally = True\n",
    "app.css.config.serve_locally = True\n",
    "\n",
    "styles = {\n",
    "    'pre': {\n",
    "        'border': 'thin lightgrey solid',\n",
    "        'overflowX': 'scroll'\n",
    "    }\n",
    "}\n",
    "\n",
    "app.layout = html.Div([\n",
    "    dcc.Graph(\n",
    "        id='basic-interactions',\n",
    "        figure={\n",
    "            'data': [\n",
    "                {\n",
    "                    'x': df['OPENDATE'],\n",
    "                    'text': df['STRCITY'],\n",
    "                    'customdata': df['storenum'],\n",
    "                    'name': 'Open Date',\n",
    "                    'type': 'histogram'\n",
    "                },\n",
    "                {\n",
    "                    'x': df['date_super'],\n",
    "                    'text': df['STRCITY'],\n",
    "                    'customdata': df['storenum'],\n",
    "                    'name': 'Super Date',\n",
    "                    'type': 'histogram'\n",
    "                }\n",
    "            ],\n",
    "            'layout': {}\n",
    "        }\n",
    "    ),\n",
    "\n",
    "    html.Div(className='row', children=[\n",
    "        html.Div([\n",
    "            dcc.Markdown(d(\"\"\"\n",
    "                **Hover Data**\n",
    "                Mouse over values in the graph.\n",
    "            \"\"\")),\n",
    "            html.Pre(id='hover-data', style=styles['pre'])\n",
    "        ], className='three columns'),\n",
    "\n",
    "        html.Div([\n",
    "            dcc.Markdown(d(\"\"\"\n",
    "                **Click Data**\n",
    "                Click on points in the graph.\n",
    "            \"\"\")),\n",
    "            html.Pre(id='click-data', style=styles['pre']),\n",
    "        ], className='three columns'),\n",
    "\n",
    "        html.Div([\n",
    "            dcc.Markdown(d(\"\"\"\n",
    "                **Selection Data**\n",
    "                Choose the lasso or rectangle tool in the graph's menu\n",
    "                bar and then select points in the graph.\n",
    "            \"\"\")),\n",
    "            html.Pre(id='selected-data', style=styles['pre']),\n",
    "        ], className='three columns'),\n",
    "\n",
    "        html.Div([\n",
    "            dcc.Markdown(d(\"\"\"\n",
    "                **Zoom and Relayout Data**\n",
    "                Click and drag on the graph to zoom or click on the zoom\n",
    "                buttons in the graph's menu bar.\n",
    "                Clicking on legend items will also fire\n",
    "                this event.\n",
    "            \"\"\")),\n",
    "            html.Pre(id='relayout-data', style=styles['pre']),\n",
    "        ], className='three columns')\n",
    "    ])\n",
    "])\n",
    "\n",
    "\n",
    "@app.callback(\n",
    "    Output('hover-data', 'children'),\n",
    "    [Input('basic-interactions', 'hoverData')])\n",
    "def display_hover_data(hoverData):\n",
    "    return json.dumps(hoverData, indent=2)\n",
    "\n",
    "\n",
    "@app.callback(\n",
    "    Output('click-data', 'children'),\n",
    "    [Input('basic-interactions', 'clickData')])\n",
    "def display_click_data(clickData):\n",
    "    return json.dumps(clickData, indent=2)\n",
    "\n",
    "\n",
    "@app.callback(\n",
    "    Output('selected-data', 'children'),\n",
    "    [Input('basic-interactions', 'selectedData')])\n",
    "def display_selected_data(selectedData):\n",
    "    return json.dumps(selectedData, indent=2)\n",
    "\n",
    "\n",
    "@app.callback(\n",
    "    Output('relayout-data', 'children'),\n",
    "    [Input('basic-interactions', 'relayoutData')])\n",
    "def display_selected_data(relayoutData):\n",
    "    return json.dumps(relayoutData, indent=2)\n",
    "\n",
    "\n",
    "if __name__ == '__main__':\n",
    "    app.run_server(debug=True)"
   ]
  },
  {
   "cell_type": "markdown",
   "id": "3JSoJTjLLs6O",
   "metadata": {
    "id": "3JSoJTjLLs6O"
   },
   "source": [
    "### Part 3: Seaborn\n",
    "\n",
    "Load **wimbledons_champions_cleaned.csv** and use Seaborn to create the following charts. \n",
    "\n",
    "9. Create a Stripplot showing when athletes from different countries won the championship. The Y-axis is the country. The X-axis is the year. Each dot indicates a player from a certain country won the championship in a certain year. The circles should be filled with green color. You don't need to display the athletes' names. "
   ]
  },
  {
   "cell_type": "code",
   "execution_count": null,
   "id": "fTFC4R4vMxbv",
   "metadata": {
    "id": "fTFC4R4vMxbv"
   },
   "outputs": [],
   "source": []
  },
  {
   "cell_type": "markdown",
   "id": "qIV3g-QtL6tO",
   "metadata": {
    "id": "qIV3g-QtL6tO"
   },
   "source": [
    "10. reate a FaceGrid with four subplots. In the first row, show two plots: a histogram showing the number of men’s champions for different countries and a histogram showing the number of women’s champions for different countries. In the second row, show two charts: a histogram showing the number of men’s runners-up for different countries and a histogram showing the number of women’s runners-up for different countries."
   ]
  },
  {
   "cell_type": "code",
   "execution_count": null,
   "id": "etynSoePKE_4",
   "metadata": {
    "id": "etynSoePKE_4"
   },
   "outputs": [],
   "source": []
  }
 ],
 "metadata": {
  "colab": {
   "name": "data_vis_project3.ipynb",
   "provenance": []
  },
  "kernelspec": {
   "display_name": "Python 3 (ipykernel)",
   "language": "python",
   "name": "python3"
  },
  "language_info": {
   "codemirror_mode": {
    "name": "ipython",
    "version": 3
   },
   "file_extension": ".py",
   "mimetype": "text/x-python",
   "name": "python",
   "nbconvert_exporter": "python",
   "pygments_lexer": "ipython3",
   "version": "3.9.7"
  }
 },
 "nbformat": 4,
 "nbformat_minor": 5
}
